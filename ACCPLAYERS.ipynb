{
  "nbformat": 4,
  "nbformat_minor": 0,
  "metadata": {
    "colab": {
      "provenance": []
    },
    "kernelspec": {
      "name": "python3",
      "display_name": "Python 3"
    },
    "language_info": {
      "name": "python"
    }
  },
  "cells": [
    {
      "cell_type": "code",
      "execution_count": 16,
      "metadata": {
        "id": "dwvyfZoLbHC4",
        "colab": {
          "base_uri": "https://localhost:8080/"
        },
        "outputId": "6cfb3c8f-e993-4813-a977-feb378883e0b"
      },
      "outputs": [
        {
          "output_type": "stream",
          "name": "stdout",
          "text": [
            "  Unnamed: 0     Unnamed: 1 Unnamed: 2 Unnamed: 3      Unnamed: 4 Totals  \\\n",
            "0         Rk         Player      Class        Pos          School      G   \n",
            "1          1   Amaree Abram         SO          G    Georgia Tech     10   \n",
            "2          2   Sola Adebisi         FR          F   Florida State      7   \n",
            "3          3  Prince Aligbe         SO          F  Boston College     35   \n",
            "4          4     Abe Atiyeh         SR          G  Boston College      4   \n",
            "\n",
            "  Unnamed: 6 Unnamed: 7 Unnamed: 8 Unnamed: 9  ... Unnamed: 11 Unnamed: 12  \\\n",
            "0         MP        TRB        AST        STL  ...         TOV          PF   \n",
            "1        108         17         11          1  ...           9          10   \n",
            "2          9          1          1          0  ...           1           1   \n",
            "3        651        119         21         15  ...          30          51   \n",
            "4          6          0          0          0  ...           1           0   \n",
            "\n",
            "  Unnamed: 13 Shooting Unnamed: 15 Unnamed: 16 Unnamed: 17 Advanced  \\\n",
            "0         PTS      FG%         2P%         3P%         FT%      PER   \n",
            "1          34    0.262       0.318         0.2       0.615      4.1   \n",
            "2           2      0.5         0.5         NaN         NaN      3.5   \n",
            "3         164    0.435       0.522       0.147        0.62      9.4   \n",
            "4           3    0.333           0           1         NaN      1.1   \n",
            "\n",
            "  Unnamed: 19 Unnamed: 20  \n",
            "0          WS         BPM  \n",
            "1        -0.1        -6.4  \n",
            "2           0        -6.7  \n",
            "3         0.9        -1.3  \n",
            "4           0        -8.2  \n",
            "\n",
            "[5 rows x 21 columns]\n"
          ]
        }
      ],
      "source": [
        "import pandas as pd\n",
        "\n",
        "df = pd.read_csv('/content/acc_players-2324F.csv')\n",
        "\n",
        "print(df.head(5))"
      ]
    },
    {
      "cell_type": "code",
      "source": [
        "print(df.columns)"
      ],
      "metadata": {
        "colab": {
          "base_uri": "https://localhost:8080/"
        },
        "id": "rD5BV3dDLmuR",
        "outputId": "61ebd306-fb07-4860-854b-dc49ae39908b"
      },
      "execution_count": 17,
      "outputs": [
        {
          "output_type": "stream",
          "name": "stdout",
          "text": [
            "Index(['Unnamed: 0', 'Unnamed: 1', 'Unnamed: 2', 'Unnamed: 3', 'Unnamed: 4',\n",
            "       'Totals', 'Unnamed: 6', 'Unnamed: 7', 'Unnamed: 8', 'Unnamed: 9',\n",
            "       'Unnamed: 10', 'Unnamed: 11', 'Unnamed: 12', 'Unnamed: 13', 'Shooting',\n",
            "       'Unnamed: 15', 'Unnamed: 16', 'Unnamed: 17', 'Advanced', 'Unnamed: 19',\n",
            "       'Unnamed: 20'],\n",
            "      dtype='object')\n"
          ]
        }
      ]
    },
    {
      "cell_type": "code",
      "source": [
        "#Change column names\n",
        "df.rename(columns={'Unnamed: 0': 'Rk', 'Unnamed: 1': 'Player', 'Unnamed: 2': 'Class', 'Unnamed: 3': 'Pos', 'Unnamed: 4': 'School', 'Unnamed: 6': 'MP', 'Unnamed: 7': 'TRB', 'Unnamed: 8': 'AST', 'Unnamed: 9': 'STL', 'Unnamed: 11': 'TOV', 'Unnamed: 12': 'PF', 'Unnamed: 13': 'PTS', 'Unnamed: 15': '2P%', 'Unnamed: 16': '3P%', 'Unnamed: 17': 'FT%', 'Unnamed: 19': 'WS', 'Unnamed: 20': 'BPM'}, inplace=True)\n",
        "print(df.columns)"
      ],
      "metadata": {
        "colab": {
          "base_uri": "https://localhost:8080/"
        },
        "id": "VTFDW8ylzGSR",
        "outputId": "e234c717-288b-47dd-f142-1e2e78e4c2f9"
      },
      "execution_count": 18,
      "outputs": [
        {
          "output_type": "stream",
          "name": "stdout",
          "text": [
            "Index(['Rk', 'Player', 'Class', 'Pos', 'School', 'Totals', 'MP', 'TRB', 'AST',\n",
            "       'STL', 'Unnamed: 10', 'TOV', 'PF', 'PTS', 'Shooting', '2P%', '3P%',\n",
            "       'FT%', 'Advanced', 'WS', 'BPM'],\n",
            "      dtype='object')\n"
          ]
        }
      ]
    },
    {
      "cell_type": "markdown",
      "source": [
        "Question 2"
      ],
      "metadata": {
        "id": "dn70TivraWEu"
      }
    },
    {
      "cell_type": "code",
      "source": [
        "#2.A\n",
        "df['PTS'] = pd.to_numeric(df['PTS'], errors='coerce')\n",
        "\n",
        "total_points = df['PTS'].sum()\n",
        "print(\"Total points scored by all players combined:\", total_points)"
      ],
      "metadata": {
        "colab": {
          "base_uri": "https://localhost:8080/"
        },
        "id": "FoLa4nrpLmVx",
        "outputId": "b779410a-ef46-4a9e-c7d1-afa0b666a932"
      },
      "execution_count": 19,
      "outputs": [
        {
          "output_type": "stream",
          "name": "stdout",
          "text": [
            "Total points scored by all players combined: 38411.0\n"
          ]
        }
      ]
    },
    {
      "cell_type": "code",
      "source": [
        "#2.B\n",
        "df['MP'] = pd.to_numeric(df['MP'], errors='coerce')\n",
        "most_minutes_player = df.loc[df['MP'].idxmax()]['Player']\n",
        "print('The player with the most minutes played is:', most_minutes_player)"
      ],
      "metadata": {
        "colab": {
          "base_uri": "https://localhost:8080/"
        },
        "id": "DWTqSDf8zhfz",
        "outputId": "58b0876a-fa5f-49ae-afd3-f18989e7fdb3"
      },
      "execution_count": 20,
      "outputs": [
        {
          "output_type": "stream",
          "name": "stdout",
          "text": [
            "The player with the most minutes played is: Casey Morsell\n"
          ]
        }
      ]
    },
    {
      "cell_type": "code",
      "source": [
        "#2.C\n",
        "df['TRB'] = pd.to_numeric(df['TRB'], errors='coerce')\n",
        "total_rebounds = df.nlargest(5, 'TRB',)['Player']\n",
        "print('The top 5 players in terms of total rebounds are:',  total_rebounds)"
      ],
      "metadata": {
        "colab": {
          "base_uri": "https://localhost:8080/"
        },
        "id": "4Svt-i8lZn3t",
        "outputId": "362b6ac2-191a-46a9-8d19-cef010044831"
      },
      "execution_count": 21,
      "outputs": [
        {
          "output_type": "stream",
          "name": "stdout",
          "text": [
            "The top 5 players in terms of total rebounds are: 6        Armando Bacot\n",
            "179    Ian Schieffelin\n",
            "91     Harrison Ingram\n",
            "45      Mohamed Diarra\n",
            "150      Norchad Omier\n",
            "Name: Player, dtype: object\n"
          ]
        }
      ]
    },
    {
      "cell_type": "code",
      "source": [
        "#3.A\n",
        "df['MP'] = pd.to_numeric(df['MP'], errors='coerce')\n",
        "five_hundo = df[df['MP'] > 500]\n",
        "print(five_hundo)"
      ],
      "metadata": {
        "colab": {
          "base_uri": "https://localhost:8080/"
        },
        "id": "58hZdKRyEMNL",
        "outputId": "155b41fc-135f-4612-e0d8-c86921fb7887"
      },
      "execution_count": 22,
      "outputs": [
        {
          "output_type": "stream",
          "name": "stdout",
          "text": [
            "      Rk            Player Class Pos          School Totals      MP    TRB  \\\n",
            "3      3     Prince Aligbe    SO   F  Boston College     35   651.0  119.0   \n",
            "5      5       Zack Austin    JR   F      Pittsburgh     33   746.0  137.0   \n",
            "6      6     Armando Bacot    SR   F  North Carolina     37  1123.0  380.0   \n",
            "8      8     Reece Beekman    SR   G        Virginia     34  1114.0  124.0   \n",
            "10    10        Chris Bell    SO   F        Syracuse     32   865.0   75.0   \n",
            "..   ...               ...   ...  ..             ...    ...     ...    ...   \n",
            "204  204     Jamir Watkins    JR   F   Florida State     33   928.0  199.0   \n",
            "207  207         Tre White    SO   G      Louisville     29   907.0  170.0   \n",
            "208  208  Chauncey Wiggins    SO   F         Clemson     36   639.0   76.0   \n",
            "210  210   Curtis Williams    FR   G      Louisville     32   564.0   42.0   \n",
            "216  216    Jaeden Zackery    JR   G  Boston College     36  1216.0  119.0   \n",
            "\n",
            "     AST STL  ... TOV   PF    PTS  Shooting    2P%    3P%    FT% Advanced  \\\n",
            "3     21  15  ...  30   51  164.0     0.435  0.522  0.147   0.62      9.4   \n",
            "5     29  32  ...  13   35  216.0     0.417  0.563  0.295  0.737       18   \n",
            "6     56  22  ...  60  100  538.0      0.54  0.544    0.4  0.781     24.6   \n",
            "8    212  68  ...  70   43  486.0     0.443  0.487   0.31  0.754     23.4   \n",
            "10    21  18  ...  26   58  384.0     0.434  0.459   0.42  0.842     14.9   \n",
            "..   ...  ..  ...  ..  ...    ...       ...    ...    ...    ...      ...   \n",
            "204   91  64  ...  84   92  514.0     0.457    0.5  0.344  0.795     24.2   \n",
            "207   39  24  ...  53   66  357.0     0.456  0.515  0.299  0.752       15   \n",
            "208   33   6  ...  26   46  196.0     0.442  0.528  0.349  0.714       11   \n",
            "210   20  12  ...  26   24  170.0     0.317  0.373  0.287  0.714      5.9   \n",
            "216  152  63  ...  71   78  408.0     0.484  0.511  0.405  0.824     16.4   \n",
            "\n",
            "       WS   BPM  \n",
            "3     0.9  -1.3  \n",
            "5     2.9   7.9  \n",
            "6     6.1   8.9  \n",
            "8     4.9  10.5  \n",
            "10    2.2   3.3  \n",
            "..    ...   ...  \n",
            "204   3.9   9.1  \n",
            "207   1.7   1.8  \n",
            "208   1.2   1.9  \n",
            "210  -0.2  -3.8  \n",
            "216   3.7   3.5  \n",
            "\n",
            "[98 rows x 21 columns]\n"
          ]
        }
      ]
    },
    {
      "cell_type": "code",
      "source": [
        "#3.B\n",
        "df['AST'] = pd.to_numeric(df['AST'], errors='coerce')\n",
        "assist = df[['Player','AST']]\n",
        "highest_assists = assist.nlargest(3, 'AST')\n",
        "print('The player with the highest total assists is:', highest_assists)"
      ],
      "metadata": {
        "colab": {
          "base_uri": "https://localhost:8080/"
        },
        "id": "o00iUi84FZMu",
        "outputId": "3fcb93cb-1275-4034-c97d-c51aaac37590"
      },
      "execution_count": 23,
      "outputs": [
        {
          "output_type": "stream",
          "name": "stdout",
          "text": [
            "The player with the highest total assists is:              Player    AST\n",
            "8     Reece Beekman  212.0\n",
            "216  Jaeden Zackery  152.0\n",
            "22    Elliot Cadeau  150.0\n"
          ]
        }
      ]
    },
    {
      "cell_type": "code",
      "source": [
        "#3.c) Who are the top 3 Shot Blockers?\n",
        "acc_basketball_df['BLK'] = pd.to_numeric(acc_basketball_df['Unnamed: 10'], errors='coerce')\n",
        "top_blockers = acc_basketball_df[['Player','BLK']]\n",
        "print('The player with the highest total assists is:', top_blockers.nlargest(3, 'BLK'))"
      ],
      "metadata": {
        "colab": {
          "base_uri": "https://localhost:8080/"
        },
        "id": "H8nJyD3KFw6M",
        "outputId": "fcf64b30-2f19-4977-9f2e-1a652c9bc5a9"
      },
      "execution_count": null,
      "outputs": [
        {
          "output_type": "stream",
          "name": "stdout",
          "text": [
            "The player with the highest total assists is:             Player   BLK\n",
            "52       Ryan Dunn  77.0\n",
            "158   Quinten Post  61.0\n",
            "6    Armando Bacot  56.0\n"
          ]
        }
      ]
    },
    {
      "cell_type": "code",
      "source": [
        "#3.C\n",
        "df['BLK'] = pd.to_numeric(df['Unnamed: 10'], errors='coerce')\n",
        "top_blockers = df[['Player','BLK']]\n",
        "print('The player with the highest total assists is:', top_blockers.nlargest(3, 'BLK'))"
      ],
      "metadata": {
        "colab": {
          "base_uri": "https://localhost:8080/"
        },
        "outputId": "92671145-6437-4f59-c898-82942f319920",
        "id": "YNn1K5x-MzT7"
      },
      "execution_count": 25,
      "outputs": [
        {
          "output_type": "stream",
          "name": "stdout",
          "text": [
            "The player with the highest total assists is:             Player   BLK\n",
            "52       Ryan Dunn  77.0\n",
            "158   Quinten Post  61.0\n",
            "6    Armando Bacot  56.0\n"
          ]
        }
      ]
    },
    {
      "cell_type": "code",
      "source": [
        "#4.A\n",
        "df['PTS'] = pd.to_numeric(df['PTS'], errors='coerce')\n",
        "school_points = df.groupby('School')['PTS'].sum()\n",
        "print(school_points)"
      ],
      "metadata": {
        "colab": {
          "base_uri": "https://localhost:8080/"
        },
        "id": "1TA6hvGBMuHt",
        "outputId": "b81f48dd-8d77-4260-ee5f-8ddfc1c099d1"
      },
      "execution_count": 26,
      "outputs": [
        {
          "output_type": "stream",
          "name": "stdout",
          "text": [
            "School\n",
            "Boston College    2667.0\n",
            "Clemson           2785.0\n",
            "Duke              2830.0\n",
            "Florida State     2526.0\n",
            "Georgia Tech      2272.0\n",
            "Louisville        2304.0\n",
            "Miami (FL)        2424.0\n",
            "NC State          3101.0\n",
            "North Carolina    3032.0\n",
            "Notre Dame        2113.0\n",
            "Pittsburgh        2495.0\n",
            "School               0.0\n",
            "Syracuse          2442.0\n",
            "Virginia          2140.0\n",
            "Virginia Tech     2547.0\n",
            "Wake Forest       2733.0\n",
            "Name: PTS, dtype: float64\n"
          ]
        }
      ]
    },
    {
      "cell_type": "code",
      "source": [
        "#4.B\n",
        "df['AST'] = pd.to_numeric(df['AST'], errors='coerce')\n",
        "school_assists = df.groupby('School')['AST'].sum()\n",
        "print('The total assists by each school are:', school_assists)"
      ],
      "metadata": {
        "colab": {
          "base_uri": "https://localhost:8080/"
        },
        "id": "rAWdY4CUNtY7",
        "outputId": "f4dc0063-2981-4844-f8d3-58ddb82eb75c"
      },
      "execution_count": 27,
      "outputs": [
        {
          "output_type": "stream",
          "name": "stdout",
          "text": [
            "The total assists by each school are: School\n",
            "Boston College    509.0\n",
            "Clemson           533.0\n",
            "Duke              551.0\n",
            "Florida State     406.0\n",
            "Georgia Tech      425.0\n",
            "Louisville        356.0\n",
            "Miami (FL)        454.0\n",
            "NC State          536.0\n",
            "North Carolina    536.0\n",
            "Notre Dame        335.0\n",
            "Pittsburgh        452.0\n",
            "School              0.0\n",
            "Syracuse          442.0\n",
            "Virginia          509.0\n",
            "Virginia Tech     514.0\n",
            "Wake Forest       429.0\n",
            "Name: AST, dtype: float64\n"
          ]
        }
      ]
    },
    {
      "cell_type": "code",
      "source": [
        "#4.C\n",
        "df['PTS'] = pd.to_numeric(df['PTS'], errors='coerce')\n",
        "school_points = df.groupby('School')['PTS'].sum()\n",
        "print('The top three schools by points are:', school_points.nlargest(3))"
      ],
      "metadata": {
        "colab": {
          "base_uri": "https://localhost:8080/"
        },
        "id": "tsQ1q0cYOMOG",
        "outputId": "00126bf3-4167-42f1-c1c7-ba1a24a66a9f"
      },
      "execution_count": 28,
      "outputs": [
        {
          "output_type": "stream",
          "name": "stdout",
          "text": [
            "The top three schools by points are: School\n",
            "NC State          3101.0\n",
            "North Carolina    3032.0\n",
            "Duke              2830.0\n",
            "Name: PTS, dtype: float64\n"
          ]
        }
      ]
    }
  ]
}