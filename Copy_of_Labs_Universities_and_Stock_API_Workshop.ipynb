{
  "cells": [
    {
      "cell_type": "markdown",
      "metadata": {
        "id": "YHwTFoDB04MH"
      },
      "source": [
        "# Using API Calls in Python with JSON and DataFrames - University Data Example\n",
        "In this notebook, we will make API requests to the Hipolabs Universities API, parse the JSON response, and convert it into Pandas DataFrames for analysis and visualization."
      ],
      "id": "YHwTFoDB04MH"
    },
    {
      "cell_type": "markdown",
      "metadata": {
        "id": "CDPNEdDF04MJ"
      },
      "source": [
        "### Step 1: Making the API Call to Fetch University Data"
      ],
      "id": "CDPNEdDF04MJ"
    },
    {
      "cell_type": "code",
      "execution_count": 1,
      "metadata": {
        "id": "pY6qqMVA04MJ",
        "colab": {
          "base_uri": "https://localhost:8080/"
        },
        "outputId": "5832039d-aa17-4377-9dc1-9475ad3c13cc"
      },
      "outputs": [
        {
          "output_type": "stream",
          "name": "stdout",
          "text": [
            "API request successful!\n"
          ]
        }
      ],
      "source": [
        "import requests\n",
        "import json\n",
        "import pandas as pd\n",
        "\n",
        "# API endpoint for fetching universities\n",
        "url = \"http://universities.hipolabs.com/search?country=United%20States\"\n",
        "\n",
        "# Make the GET request\n",
        "response = requests.get(url)\n",
        "\n",
        "# Check the status code\n",
        "if response.status_code == 200:\n",
        "    print(\"API request successful!\")\n",
        "else:\n",
        "    print(f\"Failed to retrieve data: {response.status_code}\")"
      ],
      "id": "pY6qqMVA04MJ"
    },
    {
      "cell_type": "markdown",
      "metadata": {
        "id": "N7564Ydt04MK"
      },
      "source": [
        "### Step 2: Parsing the JSON Response"
      ],
      "id": "N7564Ydt04MK"
    },
    {
      "cell_type": "code",
      "execution_count": 2,
      "metadata": {
        "id": "VnNhC0LN04MK",
        "colab": {
          "base_uri": "https://localhost:8080/"
        },
        "outputId": "d5f64363-2f65-4351-e8df-6d781b64a603"
      },
      "outputs": [
        {
          "output_type": "stream",
          "name": "stdout",
          "text": [
            "{\n",
            "  \"domains\": [\n",
            "    \"marywood.edu\"\n",
            "  ],\n",
            "  \"alpha_two_code\": \"US\",\n",
            "  \"web_pages\": [\n",
            "    \"http://www.marywood.edu\"\n",
            "  ],\n",
            "  \"name\": \"Marywood University\",\n",
            "  \"state-province\": null,\n",
            "  \"country\": \"United States\"\n",
            "}\n"
          ]
        }
      ],
      "source": [
        "# Parse the JSON response\n",
        "university_data = response.json()\n",
        "\n",
        "# Pretty-print the first university\n",
        "print(json.dumps(university_data[0], indent=2))"
      ],
      "id": "VnNhC0LN04MK"
    },
    {
      "cell_type": "markdown",
      "metadata": {
        "id": "LpvYuFhm04MK"
      },
      "source": [
        "### Step 3: Converting the JSON Data to a DataFrame"
      ],
      "id": "LpvYuFhm04MK"
    },
    {
      "cell_type": "code",
      "execution_count": null,
      "metadata": {
        "id": "6TXNwd7L04MK"
      },
      "outputs": [],
      "source": [
        "# Convert JSON data to a DataFrame\n",
        "df = pd.DataFrame(university_data)\n",
        "\n",
        "# Display the first few rows of the DataFrame\n",
        "print(df.head())\n",
        "df"
      ],
      "id": "6TXNwd7L04MK"
    },
    {
      "cell_type": "markdown",
      "metadata": {
        "id": "u_DHkVg004ML"
      },
      "source": [
        "### Step 4: Basic Data Analysis"
      ],
      "id": "u_DHkVg004ML"
    },
    {
      "cell_type": "code",
      "execution_count": null,
      "metadata": {
        "id": "ovs5UIKs04ML"
      },
      "outputs": [],
      "source": [
        "# Count the number of universities by state\n",
        "state_counts = df['state-province'].value_counts()\n",
        "print(state_counts)"
      ],
      "id": "ovs5UIKs04ML"
    },
    {
      "cell_type": "markdown",
      "metadata": {
        "id": "cAPYEMN304ML"
      },
      "source": [
        "### Step 5: Data Visualization"
      ],
      "id": "cAPYEMN304ML"
    },
    {
      "cell_type": "code",
      "execution_count": null,
      "metadata": {
        "id": "g7yUOl-804ML"
      },
      "outputs": [],
      "source": [
        "import matplotlib.pyplot as plt\n",
        "\n",
        "# Plot the number of universities per state\n",
        "state_counts.plot(kind='bar', figsize=(10, 6))\n",
        "plt.title(\"Number of Universities per State\")\n",
        "plt.xlabel(\"State\")\n",
        "plt.ylabel(\"Number of Universities\")\n",
        "plt.show()"
      ],
      "id": "g7yUOl-804ML"
    },
    {
      "cell_type": "markdown",
      "metadata": {
        "id": "WhSWvUWS04ML"
      },
      "source": [
        "### Step 6: Extending to Multiple Countries"
      ],
      "id": "WhSWvUWS04ML"
    },
    {
      "cell_type": "code",
      "execution_count": null,
      "metadata": {
        "id": "ctTMYEJp04ML"
      },
      "outputs": [],
      "source": [
        "countries = [\"United States\", \"Canada\", \"Australia\", \"United Kingdom\"]\n",
        "university_list = []\n",
        "\n",
        "for country in countries:\n",
        "    response = requests.get(f\"http://universities.hipolabs.com/search?country={country}\")\n",
        "    data = response.json()\n",
        "\n",
        "    for uni in data:\n",
        "        uni['country'] = country\n",
        "        university_list.append(uni)\n",
        "\n",
        "# Convert to DataFrame\n",
        "df_universities = pd.DataFrame(university_list)\n",
        "\n",
        "# Display the first few rows\n",
        "print(df_universities.head())"
      ],
      "id": "ctTMYEJp04ML"
    },
    {
      "cell_type": "markdown",
      "metadata": {
        "id": "PIgW1_1p04ML"
      },
      "source": [
        "### Step 7: Visualizing University Counts by Country"
      ],
      "id": "PIgW1_1p04ML"
    },
    {
      "cell_type": "code",
      "execution_count": null,
      "metadata": {
        "id": "TLQPcYvY04ML"
      },
      "outputs": [],
      "source": [
        "# Count the number of universities per country\n",
        "country_counts = df_universities['country'].value_counts()\n",
        "\n",
        "# Plot the data\n",
        "country_counts.plot(kind='bar', figsize=(10, 6))\n",
        "plt.title(\"Number of Universities per Country\")\n",
        "plt.xlabel(\"Country\")\n",
        "plt.ylabel(\"Number of Universities\")\n",
        "plt.show()"
      ],
      "id": "TLQPcYvY04ML"
    },
    {
      "cell_type": "markdown",
      "source": [
        "###Step 8: Customizing the Workshop\n",
        "\n",
        "You can experiment further by:\n",
        "\n",
        "\n",
        "\n",
        "*   Fetching data for specific regions.\n",
        "*   Analyzing other attributes such as university domains.\n",
        "*   Creating visualizations to compare universities in different regions.\n",
        "\n"
      ],
      "metadata": {
        "id": "b-dBnRNT1MQF"
      },
      "id": "b-dBnRNT1MQF"
    },
    {
      "cell_type": "markdown",
      "source": [
        "For the followig you will need to get your API key from  https://financeapi.net/\n",
        "Examine the demo page and sample data to be returned"
      ],
      "metadata": {
        "id": "iwD_LJNy2L7u"
      },
      "id": "iwD_LJNy2L7u"
    },
    {
      "cell_type": "code",
      "source": [
        "import json\n",
        "import pandas as pd\n",
        "import json\n",
        "import requests"
      ],
      "metadata": {
        "id": "80xOdsHQ2SzU"
      },
      "id": "80xOdsHQ2SzU",
      "execution_count": 6,
      "outputs": []
    },
    {
      "cell_type": "code",
      "source": [
        "#get stock from the user\n",
        "stock=input()"
      ],
      "metadata": {
        "id": "qdoW9lbM2Wes",
        "colab": {
          "base_uri": "https://localhost:8080/"
        },
        "outputId": "a6d9dc23-dd7e-47b9-dcab-3cf153172bcc"
      },
      "id": "qdoW9lbM2Wes",
      "execution_count": 7,
      "outputs": [
        {
          "name": "stdout",
          "output_type": "stream",
          "text": [
            "AAPL\n"
          ]
        }
      ]
    },
    {
      "cell_type": "code",
      "source": [
        "print(\"The Stock we will research is:\" + stock)"
      ],
      "metadata": {
        "id": "Jb5ddkbl2YWF",
        "colab": {
          "base_uri": "https://localhost:8080/"
        },
        "outputId": "79767343-1a60-4f42-99d5-ae2d8b56c25f"
      },
      "id": "Jb5ddkbl2YWF",
      "execution_count": 8,
      "outputs": [
        {
          "output_type": "stream",
          "name": "stdout",
          "text": [
            "The Stock we will research is:AAPL\n"
          ]
        }
      ]
    },
    {
      "cell_type": "code",
      "source": [
        "apikey=\"ecDYxjrXb35A0GU7LG3HA1pOLOrRBit91pC0syv0\"\n",
        "\n",
        "url = \"https://yfapi.net/v11/finance/quoteSummary/AAPL?lang=en&region=US&modules=defaultKeyStatistics%2CassetProfile\"\n",
        "\n",
        "querystring = {\"symbols\":stock}\n",
        "\n",
        "headers = {\n",
        "    'x-api-key': apikey\n",
        "    }\n",
        "\n",
        "response = requests.request(\"GET\", url, headers=headers, params=querystring)\n",
        "\n",
        "print(response.text)"
      ],
      "metadata": {
        "id": "pFKgjZlO2atU",
        "colab": {
          "base_uri": "https://localhost:8080/"
        },
        "outputId": "e9801718-67e4-4f76-c894-1364a7c3bd5f"
      },
      "id": "pFKgjZlO2atU",
      "execution_count": 9,
      "outputs": [
        {
          "output_type": "stream",
          "name": "stdout",
          "text": [
            "{\"quoteSummary\":{\"result\":[{\"assetProfile\":{\"address1\":\"One Apple Park Way\",\"city\":\"Cupertino\",\"state\":\"CA\",\"zip\":\"95014\",\"country\":\"United States\",\"phone\":\"408 996 1010\",\"website\":\"https://www.apple.com\",\"industry\":\"Consumer Electronics\",\"industryKey\":\"consumer-electronics\",\"industryDisp\":\"Consumer Electronics\",\"sector\":\"Technology\",\"sectorKey\":\"technology\",\"sectorDisp\":\"Technology\",\"longBusinessSummary\":\"Apple Inc. designs, manufactures, and markets smartphones, personal computers, tablets, wearables, and accessories worldwide. The company offers iPhone, a line of smartphones; Mac, a line of personal computers; iPad, a line of multi-purpose tablets; and wearables, home, and accessories comprising AirPods, Apple TV, Apple Watch, Beats products, and HomePod. It also provides AppleCare support and cloud services; and operates various platforms, including the App Store that allow customers to discover and download applications and digital content, such as books, music, video, games, and podcasts. In addition, the company offers various services, such as Apple Arcade, a game subscription service; Apple Fitness+, a personalized fitness service; Apple Music, which offers users a curated listening experience with on-demand radio stations; Apple News+, a subscription news and magazine service; Apple TV+, which offers exclusive original content; Apple Card, a co-branded credit card; and Apple Pay, a cashless payment service, as well as licenses its intellectual property. The company serves consumers, and small and mid-sized businesses; and the education, enterprise, and government markets. It distributes third-party applications for its products through the App Store. The company also sells its products through its retail and online stores, and direct sales force; and third-party cellular network carriers, wholesalers, retailers, and resellers. Apple Inc. was founded in 1976 and is headquartered in Cupertino, California.\",\"fullTimeEmployees\":161000,\"companyOfficers\":[{\"maxAge\":1,\"name\":\"Mr. Timothy D. Cook\",\"age\":62,\"title\":\"CEO & Director\",\"yearBorn\":1961,\"fiscalYear\":2023,\"totalPay\":{\"raw\":16239562,\"fmt\":\"16.24M\",\"longFmt\":\"16,239,562\"},\"exercisedValue\":{\"raw\":0,\"fmt\":null,\"longFmt\":\"0\"},\"unexercisedValue\":{\"raw\":0,\"fmt\":null,\"longFmt\":\"0\"}},{\"maxAge\":1,\"name\":\"Mr. Luca  Maestri\",\"age\":60,\"title\":\"CFO & Senior VP\",\"yearBorn\":1963,\"fiscalYear\":2023,\"totalPay\":{\"raw\":4612242,\"fmt\":\"4.61M\",\"longFmt\":\"4,612,242\"},\"exercisedValue\":{\"raw\":0,\"fmt\":null,\"longFmt\":\"0\"},\"unexercisedValue\":{\"raw\":0,\"fmt\":null,\"longFmt\":\"0\"}},{\"maxAge\":1,\"name\":\"Mr. Jeffrey E. Williams\",\"age\":59,\"title\":\"Chief Operating Officer\",\"yearBorn\":1964,\"fiscalYear\":2023,\"totalPay\":{\"raw\":4637585,\"fmt\":\"4.64M\",\"longFmt\":\"4,637,585\"},\"exercisedValue\":{\"raw\":0,\"fmt\":null,\"longFmt\":\"0\"},\"unexercisedValue\":{\"raw\":0,\"fmt\":null,\"longFmt\":\"0\"}},{\"maxAge\":1,\"name\":\"Ms. Katherine L. Adams\",\"age\":59,\"title\":\"Senior VP, General Counsel & Secretary\",\"yearBorn\":1964,\"fiscalYear\":2023,\"totalPay\":{\"raw\":4618064,\"fmt\":\"4.62M\",\"longFmt\":\"4,618,064\"},\"exercisedValue\":{\"raw\":0,\"fmt\":null,\"longFmt\":\"0\"},\"unexercisedValue\":{\"raw\":0,\"fmt\":null,\"longFmt\":\"0\"}},{\"maxAge\":1,\"name\":\"Ms. Deirdre  O'Brien\",\"age\":56,\"title\":\"Senior Vice President of Retail\",\"yearBorn\":1967,\"fiscalYear\":2023,\"totalPay\":{\"raw\":4613369,\"fmt\":\"4.61M\",\"longFmt\":\"4,613,369\"},\"exercisedValue\":{\"raw\":0,\"fmt\":null,\"longFmt\":\"0\"},\"unexercisedValue\":{\"raw\":0,\"fmt\":null,\"longFmt\":\"0\"}},{\"maxAge\":1,\"name\":\"Mr. Chris  Kondo\",\"title\":\"Senior Director of Corporate Accounting\",\"fiscalYear\":2023,\"exercisedValue\":{\"raw\":0,\"fmt\":null,\"longFmt\":\"0\"},\"unexercisedValue\":{\"raw\":0,\"fmt\":null,\"longFmt\":\"0\"}},{\"maxAge\":1,\"name\":\"Mr. James  Wilson\",\"title\":\"Chief Technology Officer\",\"fiscalYear\":2023,\"exercisedValue\":{\"raw\":0,\"fmt\":null,\"longFmt\":\"0\"},\"unexercisedValue\":{\"raw\":0,\"fmt\":null,\"longFmt\":\"0\"}},{\"maxAge\":1,\"name\":\"Suhasini  Chandramouli\",\"title\":\"Director of Investor Relations\",\"fiscalYear\":2023,\"exercisedValue\":{\"raw\":0,\"fmt\":null,\"longFmt\":\"0\"},\"unexercisedValue\":{\"raw\":0,\"fmt\":null,\"longFmt\":\"0\"}},{\"maxAge\":1,\"name\":\"Mr. Greg  Joswiak\",\"title\":\"Senior Vice President of Worldwide Marketing\",\"fiscalYear\":2023,\"exercisedValue\":{\"raw\":0,\"fmt\":null,\"longFmt\":\"0\"},\"unexercisedValue\":{\"raw\":0,\"fmt\":null,\"longFmt\":\"0\"}},{\"maxAge\":1,\"name\":\"Mr. Adrian  Perica\",\"age\":49,\"title\":\"Head of Corporate Development\",\"yearBorn\":1974,\"fiscalYear\":2023,\"exercisedValue\":{\"raw\":0,\"fmt\":null,\"longFmt\":\"0\"},\"unexercisedValue\":{\"raw\":0,\"fmt\":null,\"longFmt\":\"0\"}}],\"auditRisk\":6,\"boardRisk\":1,\"compensationRisk\":2,\"shareHolderRightsRisk\":1,\"overallRisk\":1,\"governanceEpochDate\":1726617600,\"compensationAsOfEpochDate\":1703980800,\"irWebsite\":\"http://investor.apple.com/\",\"maxAge\":86400},\"defaultKeyStatistics\":{\"maxAge\":1,\"priceHint\":{\"raw\":2,\"fmt\":\"2\",\"longFmt\":\"2\"},\"enterpriseValue\":{\"raw\":3498748149760,\"fmt\":\"3.5T\",\"longFmt\":\"3,498,748,149,760\"},\"forwardPE\":{\"raw\":30.417112,\"fmt\":\"30.42\"},\"profitMargins\":{\"raw\":0.26441,\"fmt\":\"26.44%\"},\"floatShares\":{\"raw\":15179810381,\"fmt\":\"15.18B\",\"longFmt\":\"15,179,810,381\"},\"sharesOutstanding\":{\"raw\":15204100096,\"fmt\":\"15.2B\",\"longFmt\":\"15,204,100,096\"},\"sharesShort\":{\"raw\":130539888,\"fmt\":\"130.54M\",\"longFmt\":\"130,539,888\"},\"sharesShortPriorMonth\":{\"raw\":121598771,\"fmt\":\"121.6M\",\"longFmt\":\"121,598,771\"},\"sharesShortPreviousMonthDate\":{\"raw\":1723680000,\"fmt\":\"2024-08-15\"},\"dateShortInterest\":{\"raw\":1726185600,\"fmt\":\"2024-09-13\"},\"sharesPercentSharesOut\":{\"raw\":0.0086,\"fmt\":\"0.86%\"},\"heldPercentInsiders\":{\"raw\":0.02703,\"fmt\":\"2.70%\"},\"heldPercentInstitutions\":{\"raw\":0.60886,\"fmt\":\"60.89%\"},\"shortRatio\":{\"raw\":3.03,\"fmt\":\"3.03\"},\"shortPercentOfFloat\":{\"raw\":0.0086,\"fmt\":\"0.86%\"},\"beta\":{\"raw\":1.24,\"fmt\":\"1.24\"},\"impliedSharesOutstanding\":{\"raw\":15250799616,\"fmt\":\"15.25B\",\"longFmt\":\"15,250,799,616\"},\"morningStarOverallRating\":{},\"morningStarRiskRating\":{},\"category\":null,\"bookValue\":{\"raw\":4.382,\"fmt\":\"4.38\"},\"priceToBook\":{\"raw\":51.921497,\"fmt\":\"51.92\"},\"annualReportExpenseRatio\":{},\"ytdReturn\":{},\"beta3Year\":{},\"totalAssets\":{},\"yield\":{},\"fundFamily\":null,\"fundInceptionDate\":{},\"legalType\":null,\"threeYearAverageReturn\":{},\"fiveYearAverageReturn\":{},\"priceToSalesTrailing12Months\":{},\"lastFiscalYearEnd\":{\"raw\":1696032000,\"fmt\":\"2023-09-30\"},\"nextFiscalYearEnd\":{\"raw\":1727654400,\"fmt\":\"2024-09-30\"},\"mostRecentQuarter\":{\"raw\":1719619200,\"fmt\":\"2024-06-29\"},\"earningsQuarterlyGrowth\":{\"raw\":0.079,\"fmt\":\"7.90%\"},\"revenueQuarterlyGrowth\":{},\"netIncomeToCommon\":{\"raw\":101956001792,\"fmt\":\"101.96B\",\"longFmt\":\"101,956,001,792\"},\"trailingEps\":{\"raw\":6.56,\"fmt\":\"6.56\"},\"forwardEps\":{\"raw\":7.48,\"fmt\":\"7.48\"},\"pegRatio\":{\"raw\":3.06,\"fmt\":\"3.06\"},\"lastSplitFactor\":\"4:1\",\"lastSplitDate\":{\"raw\":1598832000,\"fmt\":\"2020-08-31\"},\"enterpriseToRevenue\":{\"raw\":9.073,\"fmt\":\"9.07\"},\"enterpriseToEbitda\":{\"raw\":26.55,\"fmt\":\"26.55\"},\"52WeekChange\":{\"raw\":0.32889438,\"fmt\":\"32.89%\"},\"SandP52WeekChange\":{\"raw\":0.33985615,\"fmt\":\"33.99%\"},\"lastDividendValue\":{\"raw\":0.25,\"fmt\":\"0.25\"},\"lastDividendDate\":{\"raw\":1723420800,\"fmt\":\"2024-08-12\"},\"lastCapGain\":{},\"annualHoldingsTurnover\":{}}}],\"error\":null}}\n"
          ]
        }
      ]
    },
    {
      "cell_type": "code",
      "source": [
        "stock_json = response.json()\n",
        "print(stock_json['quoteSummary']['result'][0][\"longName\"] + \" Price:$\" + str(stock_json['quoteSummary']['result'][0][\"regularMarketPrice\"]))"
      ],
      "metadata": {
        "id": "SVJqBY7y2eSs",
        "colab": {
          "base_uri": "https://localhost:8080/",
          "height": 158
        },
        "outputId": "3a03b686-5c51-4315-e2c0-abeec72fe0ec"
      },
      "id": "SVJqBY7y2eSs",
      "execution_count": 25,
      "outputs": [
        {
          "output_type": "error",
          "ename": "KeyError",
          "evalue": "'longName'",
          "traceback": [
            "\u001b[0;31m---------------------------------------------------------------------------\u001b[0m",
            "\u001b[0;31mKeyError\u001b[0m                                  Traceback (most recent call last)",
            "\u001b[0;32m<ipython-input-25-835758feec76>\u001b[0m in \u001b[0;36m<cell line: 2>\u001b[0;34m()\u001b[0m\n\u001b[1;32m      1\u001b[0m \u001b[0mstock_json\u001b[0m \u001b[0;34m=\u001b[0m \u001b[0mresponse\u001b[0m\u001b[0;34m.\u001b[0m\u001b[0mjson\u001b[0m\u001b[0;34m(\u001b[0m\u001b[0;34m)\u001b[0m\u001b[0;34m\u001b[0m\u001b[0;34m\u001b[0m\u001b[0m\n\u001b[0;32m----> 2\u001b[0;31m \u001b[0mprint\u001b[0m\u001b[0;34m(\u001b[0m\u001b[0mstock_json\u001b[0m\u001b[0;34m[\u001b[0m\u001b[0;34m'quoteSummary'\u001b[0m\u001b[0;34m]\u001b[0m\u001b[0;34m[\u001b[0m\u001b[0;34m'result'\u001b[0m\u001b[0;34m]\u001b[0m\u001b[0;34m[\u001b[0m\u001b[0;36m0\u001b[0m\u001b[0;34m]\u001b[0m\u001b[0;34m[\u001b[0m\u001b[0;34m\"longName\"\u001b[0m\u001b[0;34m]\u001b[0m \u001b[0;34m+\u001b[0m \u001b[0;34m\" Price:$\"\u001b[0m \u001b[0;34m+\u001b[0m \u001b[0mstr\u001b[0m\u001b[0;34m(\u001b[0m\u001b[0mstock_json\u001b[0m\u001b[0;34m[\u001b[0m\u001b[0;34m'quoteSummary'\u001b[0m\u001b[0;34m]\u001b[0m\u001b[0;34m[\u001b[0m\u001b[0;34m'result'\u001b[0m\u001b[0;34m]\u001b[0m\u001b[0;34m[\u001b[0m\u001b[0;36m0\u001b[0m\u001b[0;34m]\u001b[0m\u001b[0;34m[\u001b[0m\u001b[0;34m\"regularMarketPrice\"\u001b[0m\u001b[0;34m]\u001b[0m\u001b[0;34m)\u001b[0m\u001b[0;34m)\u001b[0m\u001b[0;34m\u001b[0m\u001b[0;34m\u001b[0m\u001b[0m\n\u001b[0m",
            "\u001b[0;31mKeyError\u001b[0m: 'longName'"
          ]
        }
      ]
    },
    {
      "cell_type": "code",
      "source": [
        "user_input = input(\"Please enter a list of stock symbols (comma-separated)\")\n",
        "stock_lists = [stock.strip() for stock in user_input.split(\",\")]\n",
        "\n",
        "print(\"You entered the following stocks:\")\n",
        "for stock in stock_lists:\n",
        "    print(stock)\n",
        "\n",
        "api_key = \"ecDYxjrXb35A0GU7LG3HA1pOLOrRBit91pC0syv0\"\n",
        "url = \"https://yfapi.net/v11/finance/quoteSummary/AAPL?lang=en&region=US&modules=defaultKeyStatistics%2CassetProfile\"\n",
        "symbols = \",\".join(stock_lists)\n",
        "full_url = f\"{base_url}{symbols}\"\n",
        "\n",
        "print(\"APU URL;\", full_url)"
      ],
      "metadata": {
        "id": "Bm-vIImZQlqh"
      },
      "id": "Bm-vIImZQlqh",
      "execution_count": null,
      "outputs": []
    },
    {
      "cell_type": "markdown",
      "source": [
        "Ask the user for a list of stocks and pass that answer back to the user\n"
      ],
      "metadata": {
        "id": "9sqZZPI12leh"
      },
      "id": "9sqZZPI12leh"
    }
  ],
  "metadata": {
    "kernelspec": {
      "display_name": "Python 3",
      "language": "python",
      "name": "python3"
    },
    "language_info": {
      "codemirror_mode": {
        "name": "ipython",
        "version": 3
      },
      "file_extension": ".py",
      "mimetype": "text/x-python",
      "name": "python",
      "nbconvert_exporter": "python",
      "version": "3.8.10"
    },
    "colab": {
      "provenance": []
    }
  },
  "nbformat": 4,
  "nbformat_minor": 5
}