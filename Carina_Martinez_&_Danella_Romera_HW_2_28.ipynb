{
  "nbformat": 4,
  "nbformat_minor": 0,
  "metadata": {
    "colab": {
      "provenance": []
    },
    "kernelspec": {
      "name": "python3",
      "display_name": "Python 3"
    },
    "language_info": {
      "name": "python"
    }
  },
  "cells": [
    {
      "cell_type": "markdown",
      "source": [
        "I (Carina Martinez) worked with Danella Romera on this assignment."
      ],
      "metadata": {
        "id": "s7lx8wz6Zdqu"
      }
    },
    {
      "cell_type": "code",
      "source": [
        "!pip install english_words\n",
        "from english_words import get_english_words_set\n",
        "words = get_english_words_set(['web2'], lower=True)"
      ],
      "metadata": {
        "id": "x2o5jN2iZht-"
      },
      "execution_count": null,
      "outputs": []
    },
    {
      "cell_type": "code",
      "execution_count": null,
      "metadata": {
        "colab": {
          "base_uri": "https://localhost:8080/"
        },
        "id": "A7uRrFfdZci-",
        "outputId": "30d53d69-7d0c-487d-9a36-3678553f529c"
      },
      "outputs": [
        {
          "output_type": "stream",
          "name": "stdout",
          "text": [
            "<class 'set'>\n"
          ]
        }
      ],
      "source": [
        "print(type(words))"
      ]
    },
    {
      "cell_type": "markdown",
      "source": [
        "1. The variable *words* is a data set."
      ],
      "metadata": {
        "id": "HrFm3tSdZ5cG"
      }
    },
    {
      "cell_type": "code",
      "source": [
        "wordlist = list(words)\n",
        "print(type(wordlist))\n",
        "len(wordlist)"
      ],
      "metadata": {
        "colab": {
          "base_uri": "https://localhost:8080/"
        },
        "id": "4ymF8yRuZ75K",
        "outputId": "7d683857-9893-45dc-95ef-858d228c9fc7"
      },
      "execution_count": null,
      "outputs": [
        {
          "output_type": "stream",
          "name": "stdout",
          "text": [
            "<class 'list'>\n"
          ]
        },
        {
          "output_type": "execute_result",
          "data": {
            "text/plain": [
              "234450"
            ]
          },
          "metadata": {},
          "execution_count": 15
        }
      ]
    },
    {
      "cell_type": "markdown",
      "source": [
        "1. The data set is now a list. There are 234450 words in the list *wordlist*."
      ],
      "metadata": {
        "id": "R40JZR7kZ_rW"
      }
    },
    {
      "cell_type": "code",
      "source": [
        "wordlist[:10]"
      ],
      "metadata": {
        "colab": {
          "base_uri": "https://localhost:8080/"
        },
        "id": "_wESn4UTaF99",
        "outputId": "339e6d0b-cc13-476a-adfb-b9736cb759e2"
      },
      "execution_count": null,
      "outputs": [
        {
          "output_type": "execute_result",
          "data": {
            "text/plain": [
              "['maorilander',\n",
              " 'asthore',\n",
              " 'semisolid',\n",
              " 'incogent',\n",
              " 'parliamenteering',\n",
              " 'overburden',\n",
              " 'scythic',\n",
              " 'lose',\n",
              " 'staminal',\n",
              " 'nyctalopia']"
            ]
          },
          "metadata": {},
          "execution_count": 6
        }
      ]
    },
    {
      "cell_type": "markdown",
      "source": [
        "2. We noticed that the words are not in alphabetical order, and that the words are rather long---they're also words that are not commonly used."
      ],
      "metadata": {
        "id": "pkcFjIDlaKCn"
      }
    },
    {
      "cell_type": "code",
      "source": [
        "alpha_list = sorted(wordlist[:10])\n",
        "alpha_list"
      ],
      "metadata": {
        "colab": {
          "base_uri": "https://localhost:8080/"
        },
        "id": "3mL3f7lQaQaP",
        "outputId": "5f92ba7c-3678-4654-ec0f-d874d98e2ee3"
      },
      "execution_count": null,
      "outputs": [
        {
          "output_type": "execute_result",
          "data": {
            "text/plain": [
              "['asthore',\n",
              " 'incogent',\n",
              " 'lose',\n",
              " 'maorilander',\n",
              " 'nyctalopia',\n",
              " 'overburden',\n",
              " 'parliamenteering',\n",
              " 'scythic',\n",
              " 'semisolid',\n",
              " 'staminal']"
            ]
          },
          "metadata": {},
          "execution_count": 7
        }
      ]
    },
    {
      "cell_type": "code",
      "source": [
        "start_w_a = 0\n",
        "for word in alpha_list:\n",
        "  if word.startswith('a'):\n",
        "    start_w_a += 1\n",
        "  else:\n",
        "    break\n",
        "start_w_a"
      ],
      "metadata": {
        "id": "Yzx4cOyIa8mz"
      },
      "execution_count": null,
      "outputs": []
    },
    {
      "cell_type": "code",
      "source": [
        "words_w_q = 0\n",
        "for word in alpha_list:\n",
        "  if 'q' in word:\n",
        "    words_w_q += 1\n",
        "  else:\n",
        "    break\n",
        "words_w_q"
      ],
      "metadata": {
        "id": "sHZ9XNdjbbUm"
      },
      "execution_count": null,
      "outputs": []
    },
    {
      "cell_type": "code",
      "source": [
        "no_e = 0\n",
        "for word in alpha_list:\n",
        "  if 'e' in word:\n",
        "    no_e += 0\n",
        "  else:\n",
        "    no_e += 1\n",
        "print(no_e)"
      ],
      "metadata": {
        "id": "C6QwyrFrclED"
      },
      "execution_count": null,
      "outputs": []
    },
    {
      "cell_type": "markdown",
      "source": [
        "3-5.\n",
        "\n",
        "There is one word that starts with the letter 'a', but no words that have the letter 'q' in them.\n",
        "\n",
        "There are 3 words that do not have an 'e' in them, therefore meaning that 0.3 (33%, or 3/10) of the words do not have the letter 'e'."
      ],
      "metadata": {
        "id": "aGsUv8sMey9c"
      }
    },
    {
      "cell_type": "code",
      "source": [
        "import numpy as np\n",
        "wordlist_array = np.array(wordlist)\n",
        "alpha_list_array = np.array(alpha_list)\n",
        "alphabet = [chr(i) for i in range(ord('a'),ord('z')+1)]\n",
        "print(alphabet)"
      ],
      "metadata": {
        "colab": {
          "base_uri": "https://localhost:8080/"
        },
        "id": "alnLZOoBfDcE",
        "outputId": "6ab0cc71-8ce4-4392-a2b0-ae1dc4ba2b6b"
      },
      "execution_count": null,
      "outputs": [
        {
          "output_type": "stream",
          "name": "stdout",
          "text": [
            "['a', 'b', 'c', 'd', 'e', 'f', 'g', 'h', 'i', 'j', 'k', 'l', 'm', 'n', 'o', 'p', 'q', 'r', 's', 't', 'u', 'v', 'w', 'x', 'y', 'z']\n"
          ]
        }
      ]
    },
    {
      "cell_type": "markdown",
      "source": [
        "6. 'alphabet' appears to be a list of the English alphabet in order from 'a' to 'z'."
      ],
      "metadata": {
        "id": "_fecFid8f_mc"
      }
    },
    {
      "cell_type": "code",
      "source": [
        "import matplotlib.pyplot as plt\n",
        "number_of_each = {}\n",
        "for alphabet in alpha_list_array:\n",
        "  first_letter = alphabet[0]\n",
        "  if first_letter in number_of_each:\n",
        "   number_of_each[first_letter] += 1\n",
        "  else:\n",
        "    number_of_each[first_letter] = 1\n",
        "\n",
        "sort_first_letter = (sorted(number_of_each.items()))\n",
        "print(sort_first_letter)\n",
        "\n",
        "x = ['a','i','l','m','n','o','p','s']\n",
        "y = [1, 1, 1, 1, 1, 1, 1, 3]\n",
        "plt.bar(x,y)\n",
        "plt.plot()\n",
        "plt.xlabel(\"First Letter\")\n",
        "plt.ylabel(\"Number of Each Letter\")\n",
        "plt.title(\"Number of Each First Letter Found in List\")\n",
        "plt.show()"
      ],
      "metadata": {
        "colab": {
          "base_uri": "https://localhost:8080/",
          "height": 490
        },
        "id": "3cJtQwoBgDFQ",
        "outputId": "14aab46f-ee52-45fe-f344-4cf79dbb9f54"
      },
      "execution_count": null,
      "outputs": [
        {
          "output_type": "stream",
          "name": "stdout",
          "text": [
            "[('a', 1), ('i', 1), ('l', 1), ('m', 1), ('n', 1), ('o', 1), ('p', 1), ('s', 3)]\n"
          ]
        },
        {
          "output_type": "display_data",
          "data": {
            "text/plain": [
              "<Figure size 640x480 with 1 Axes>"
            ],
            "image/png": "[encoded data removed]"
          },
          "metadata": {}
        }
      ]
    },
    {
      "cell_type": "markdown",
      "source": [
        "7. This graph shows the number of each first letter found in the words in alpha_list."
      ],
      "metadata": {
        "id": "caX77EqWhQjm"
      }
    },
    {
      "cell_type": "code",
      "source": [
        "''' By adding a boolean to reverse the order of the list, we get the 6 longest words instead if the six shortest. '''\n",
        "longest_words = sorted(alpha_list, key=len, reverse=True)\n",
        "longest_words[:6]"
      ],
      "metadata": {
        "colab": {
          "base_uri": "https://localhost:8080/"
        },
        "id": "qTqja843hVrL",
        "outputId": "d029102a-7891-4fdd-9f3a-edca71d1c7ac"
      },
      "execution_count": null,
      "outputs": [
        {
          "output_type": "execute_result",
          "data": {
            "text/plain": [
              "['parliamenteering',\n",
              " 'maorilander',\n",
              " 'nyctalopia',\n",
              " 'overburden',\n",
              " 'semisolid',\n",
              " 'incogent']"
            ]
          },
          "metadata": {},
          "execution_count": 93
        }
      ]
    },
    {
      "cell_type": "markdown",
      "source": [
        "8. The six longest words are *parliamenteering, maorilander, nyctalopia, overburden, semisolid* and *incogent*."
      ],
      "metadata": {
        "id": "ExoDyYbhkVRO"
      }
    },
    {
      "cell_type": "code",
      "source": [
        "length_counts = {}\n",
        "for word in alpha_list:\n",
        "  length = len(word)\n",
        "  if length in length_counts:\n",
        "    length_counts[length] += 1\n",
        "  else:\n",
        "    length_counts[length] = 1\n",
        "\n",
        "sort_length_counts = (sorted(length_counts.items()))\n",
        "print(sort_length_counts)\n",
        "\n",
        "''' The lines of code above are responsible for detecting the number of characters in each\n",
        " word by locating them in alpha_list, and then sorting them. Displayed in the output above\n",
        "the histogram are the points found, with the x-value representing the number of words, and\n",
        " the y-value representing how many words//the frequency of that length of word. '''\n",
        "\n",
        "\n",
        "plt.bar(length_counts.keys(), length_counts.values())\n",
        "plt.xlabel(\"Length of Word\")\n",
        "plt.ylabel('Frequency')\n",
        "plt.title('Number of Words of Each Length Found in List')\n",
        "plt.show()"
      ],
      "metadata": {
        "colab": {
          "base_uri": "https://localhost:8080/",
          "height": 490
        },
        "id": "e2RuqE6AhcZb",
        "outputId": "47bb7033-f344-4572-d685-c20e8f0ed930"
      },
      "execution_count": null,
      "outputs": [
        {
          "output_type": "stream",
          "name": "stdout",
          "text": [
            "[(4, 1), (7, 2), (8, 2), (9, 1), (10, 2), (11, 1), (16, 1)]\n"
          ]
        },
        {
          "output_type": "display_data",
          "data": {
            "text/plain": [
              "<Figure size 640x480 with 1 Axes>"
            ],
            "image/png": "[encoded data removed]"
          },
          "metadata": {}
        }
      ]
    },
    {
      "cell_type": "markdown",
      "source": [
        "9. As we can see in the histogram, 7-letter, 8-letter, and 10-letter words are all tied for having the most common length of word in the wordlist, each having two words of its length in alpha_list."
      ],
      "metadata": {
        "id": "m1elR8TZrKFY"
      }
    },
    {
      "cell_type": "code",
      "source": [
        "v_and_a = 0\n",
        "for word in alpha_list:\n",
        "  has_v = False\n",
        "  has_a = False\n",
        "  for char in word:\n",
        "    if char == 'v':\n",
        "      has_v = True\n",
        "    elif char == 'a':\n",
        "      has_a = True\n",
        "  if has_v and has_a:\n",
        "    v_and_a += 1\n",
        "v_and_a"
      ],
      "metadata": {
        "id": "svohwPQFxcuJ"
      },
      "execution_count": null,
      "outputs": []
    },
    {
      "cell_type": "code",
      "source": [
        "''' Unlike questions 3-5, which only asked for one character, this question\n",
        "required us to create booleans to act as a sort of test to ensure that both characters\n",
        "are ensured to be present. If we hadn't done this, and had carried it out like the rest,\n",
        "then there'd be no way to tell whether the words actually had both of the characters or only one. '''\n",
        "\n",
        "w_and_l = 0\n",
        "for word in alpha_list:\n",
        "  has_w = False\n",
        "  has_l = False\n",
        "  for char in word:\n",
        "    if char == 'w':\n",
        "      has_w = True\n",
        "    elif char == 'l':\n",
        "      has_l = True\n",
        "  if has_w and has_l:\n",
        "    w_and_l += 1\n",
        "w_and_l"
      ],
      "metadata": {
        "id": "Rlrl7V4gzHpW"
      },
      "execution_count": null,
      "outputs": []
    },
    {
      "cell_type": "markdown",
      "source": [
        "11. None of the words in alpha_list contain both *v* and *a*, nor both *w* and *l*. According to the tiny font by the checkmark, it takes 0 seconds to run this loop through the word list."
      ],
      "metadata": {
        "id": "XA_raDUKzplP"
      }
    }
  ]
}