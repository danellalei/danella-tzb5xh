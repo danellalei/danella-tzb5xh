{
  "nbformat": 4,
  "nbformat_minor": 0,
  "metadata": {
    "colab": {
      "provenance": []
    },
    "kernelspec": {
      "name": "python3",
      "display_name": "Python 3"
    },
    "language_info": {
      "name": "python"
    }
  },
  "cells": [
    {
      "cell_type": "markdown",
      "source": [
        "## Assignment:  Classes\n",
        "### Due Sunday 28 April at 10pm"
      ],
      "metadata": {
        "id": "5Vy93BSp9Tum"
      }
    },
    {
      "cell_type": "markdown",
      "source": [
        "Completed by Danella Lei Romera (tzb5xh) and Carina Martinez (fyv5hu)\n"
      ],
      "metadata": {
        "id": "NvAIf-mxz0xq"
      }
    },
    {
      "cell_type": "markdown",
      "source": [
        "1.  Define a class called `Person` that has attributes `lastName`, `firstName`, `mother`, and `father`.  Both `mother` and `father` should have default value `unknown`.\n",
        "\n",
        "  Include a `__str__()` function that returns a string of the form '`firstName` `lastName`'.\n",
        "\n",
        "  Include a `__repr__()` function that returns a string that can be evaluated to recreate the `Person` object.\n",
        "\n"
      ],
      "metadata": {
        "id": "vcj5XQAI9Wsb"
      }
    },
    {
      "cell_type": "code",
      "source": [
        "class Person:\n",
        "    def __init__(self, lastName, firstName, mother='unknown', father='unknown'):\n",
        "        self.lastName = lastName\n",
        "        self.firstName = firstName\n",
        "        self.mother = mother\n",
        "        self.father = father\n",
        "\n",
        "    def __str__(self):\n",
        "        return f'{self.firstName} {self.lastName}'\n",
        "\n",
        "    def __repr__(self):\n",
        "        return f\"Person('{self.lastName}', '{self.firstName}', '{self.mother}', '{self.father}')\"\n",
        "\n",
        "person1 = Person('Handel', 'Abby')\n",
        "print(person1)\n",
        "print(repr(person1))"
      ],
      "metadata": {
        "id": "mjHDwHv3EpVe",
        "colab": {
          "base_uri": "https://localhost:8080/"
        },
        "outputId": "ca83a864-1c07-4f08-d3cb-6ba00f8e12d0"
      },
      "execution_count": null,
      "outputs": [
        {
          "output_type": "stream",
          "name": "stdout",
          "text": [
            "Abby Handel\n",
            "Person('Handel', 'Abby', 'unknown', 'unknown')\n"
          ]
        }
      ]
    },
    {
      "cell_type": "markdown",
      "source": [
        "*Create* a person (i.e., a `Person` object) called `p` with unknown parents.  (You will need to give your person a first and last name.) Check the type of `p`.  Include all inputs and outputs."
      ],
      "metadata": {
        "id": "-ppMsEIVHINl"
      }
    },
    {
      "cell_type": "code",
      "source": [
        "p = Person('Paler', 'Dean')\n",
        "print(type(p))"
      ],
      "metadata": {
        "id": "5bwid_6gHIBH",
        "colab": {
          "base_uri": "https://localhost:8080/"
        },
        "outputId": "60859717-c8ed-4d79-8409-31ce55e15d5c"
      },
      "execution_count": null,
      "outputs": [
        {
          "output_type": "stream",
          "name": "stdout",
          "text": [
            "<class '__main__.Person'>\n"
          ]
        }
      ]
    },
    {
      "cell_type": "markdown",
      "source": [
        "Verify that your `__str__` and `__repr__` functions are doing what they are supposed to do.  Include all inputs and outputs."
      ],
      "metadata": {
        "id": "Z6zlUC3xRtal"
      }
    },
    {
      "cell_type": "code",
      "source": [
        "p = Person('Paler', 'Dean')\n",
        "print(str(p))\n",
        "print(repr(p))"
      ],
      "metadata": {
        "id": "jZO0dBQYRs-K",
        "colab": {
          "base_uri": "https://localhost:8080/"
        },
        "outputId": "6f13b9f8-d829-44fc-e9ed-0545fb702a48"
      },
      "execution_count": null,
      "outputs": [
        {
          "output_type": "stream",
          "name": "stdout",
          "text": [
            "Dean Paler\n",
            "Person('Paler', 'Dean', 'unknown', 'unknown')\n"
          ]
        }
      ]
    },
    {
      "cell_type": "markdown",
      "source": [
        "Suppose the mother of `p` has been found and is named Taylor Swift.  Create a new person named Taylor Swift, and make her the mother of `p`:\n",
        "\n",
        "```\n",
        "> p.mother\n",
        "'Taylor Swift'\n",
        "```"
      ],
      "metadata": {
        "id": "1mOAThQiHzoQ"
      }
    },
    {
      "cell_type": "code",
      "source": [
        "taylor_swift = Person('Swift', 'Taylor')\n",
        "\n",
        "p.mother = taylor_swift\n",
        "\n",
        "print(p.mother)"
      ],
      "metadata": {
        "id": "NYbDOorpHymz",
        "colab": {
          "base_uri": "https://localhost:8080/"
        },
        "outputId": "86bff614-a8a8-451d-de42-eefe53edf1cd"
      },
      "execution_count": null,
      "outputs": [
        {
          "output_type": "stream",
          "name": "stdout",
          "text": [
            "Taylor Swift\n"
          ]
        }
      ]
    },
    {
      "cell_type": "markdown",
      "source": [
        "2.  Add some methods to your class.  Start by copying the `class` definition you already wrote.  Then, inside the `class` definition:\n",
        "\n",
        "  (a) Write a method called `unknownParent()` which returns `True` if any parent is 'unknown' and `False` otherwise.\n",
        "\n",
        "  (b) Write a method called `maternalGrandmother()` which returns the mother's mother.  If the mother is unknown, it should return 'unknown'.\n",
        "\n"
      ],
      "metadata": {
        "id": "1g1pcrmFHzGh"
      }
    },
    {
      "cell_type": "code",
      "source": [
        "class Person:\n",
        "    def __init__(self, lastName, firstName, mother='unknown', father='unknown'):\n",
        "        self.lastName = lastName\n",
        "        self.firstName = firstName\n",
        "        self.mother = mother\n",
        "        self.father = father\n",
        "\n",
        "    def __str__(self):\n",
        "        return f'{self.firstName} {self.lastName}'\n",
        "\n",
        "    def __repr__(self):\n",
        "        return f\"Person('{self.lastName}', '{self.firstName}', '{self.mother}', '{self.father}')\"\n",
        "\n",
        "    def unknownParent(self):\n",
        "        return self.mother == 'unknown' or self.father == 'unknown'\n",
        "\n",
        "    def maternalGrandmother(self):\n",
        "        if self.mother != 'unknown':\n",
        "            if self.mother.mother != 'unknown':\n",
        "                return self.mother.mother\n",
        "        return 'unknown'\n",
        "\n",
        "p = Person('Handel', 'Abby')\n",
        "print(p.maternalGrandmother())"
      ],
      "metadata": {
        "id": "7mIxJGwwKTpv",
        "colab": {
          "base_uri": "https://localhost:8080/"
        },
        "outputId": "40132daa-6198-4157-efac-d2822a2a576a"
      },
      "execution_count": null,
      "outputs": [
        {
          "output_type": "stream",
          "name": "stdout",
          "text": [
            "unknown\n"
          ]
        }
      ]
    },
    {
      "cell_type": "markdown",
      "source": [
        "Create enough `Person` objects to test whether your methods are working properly.  Show all your inputs and outputs.  It is up to you to demonstrate that you have thoroughly tested the code.  You may use additional code and/or text chunks if it helps."
      ],
      "metadata": {
        "id": "l9-4gxd8FxAQ"
      }
    },
    {
      "cell_type": "code",
      "source": [
        "p1 = Person('Handel', 'Abby')\n",
        "p2 = Person('Martinez', 'Carina')\n",
        "p3 = Person('Romera', 'Bing', mother=p2)\n",
        "p4 = Person('Paler', 'Dean', father=p1)\n",
        "p5 = Person('Tran', 'Tommy', mother=p4, father=p3)\n",
        "\n",
        "# Test unknownParent() method\n",
        "print(p1.unknownParent())  # Output: True (unknown father)\n",
        "print(p2.unknownParent())  # Output: True (unknown father)\n",
        "print(p3.unknownParent())  # Output: False (both parents known)\n",
        "print(p4.unknownParent())  # Output: True (unknown mother)\n",
        "print(p5.unknownParent())  # Output: False (both parents known)\n",
        "\n",
        "# Test maternalGrandmother() method\n",
        "print(p1.maternalGrandmother())  # Output: unknown\n",
        "print(p2.maternalGrandmother())  # Output: unknown\n",
        "print(p3.maternalGrandmother())  # Output: unknown (mother's mother is unknown)\n",
        "print(p4.maternalGrandmother())  # Output: unknown (mother is unknown)\n",
        "print(p5.maternalGrandmother())  # Output: Swift Taylor"
      ],
      "metadata": {
        "id": "gX1qpcKzFwoZ",
        "colab": {
          "base_uri": "https://localhost:8080/"
        },
        "outputId": "2d1ebcd8-7453-40b8-eb88-e28938f25241"
      },
      "execution_count": null,
      "outputs": [
        {
          "output_type": "stream",
          "name": "stdout",
          "text": [
            "True\n",
            "True\n",
            "True\n",
            "True\n",
            "False\n",
            "unknown\n",
            "unknown\n",
            "unknown\n",
            "unknown\n",
            "unknown\n"
          ]
        }
      ]
    }
  ]
}