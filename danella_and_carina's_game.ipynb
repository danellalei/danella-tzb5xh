{
  "cells": [
    {
      "cell_type": "code",
      "execution_count": null,
      "metadata": {
        "colab": {
          "base_uri": "https://localhost:8080/"
        },
        "id": "HLQr4fqCi3GF",
        "outputId": "ac784125-a7f7-41dc-d1e7-a29b23ebbf4c"
      },
      "outputs": [
        {
          "output_type": "stream",
          "name": "stdout",
          "text": [
            "You are playing the Guess the Number game!\n",
            "I have selected a random number between 0 and 100. Can you guess it?\n",
            "What is your guess?: 13\n",
            "Too High.\n",
            "What is your guess?: 6\n",
            "Too Low.\n",
            "What is your guess?: 8\n",
            "Too Low.\n",
            "What is your guess?: 10\n",
            "Too High.\n",
            "What is your guess?: 9\n",
            "You got it! It took you 5 guesses.\n"
          ]
        }
      ],
      "source": [
        "\n",
        "import random\n",
        "\n",
        "def guess_the_number():\n",
        "    number = random.randint(0, 100)\n",
        "\n",
        "    print(\"You are playing the Guess the Number game!\")\n",
        "    print(\"I have selected a random number between 0 and 100. Can you guess it?\")\n",
        "\n",
        "    guess_count = 0\n",
        "\n",
        "    while True:\n",
        "        user_guess = input(\"What is your guess?: \")\n",
        "\n",
        "        try:\n",
        "            user_guess = int(user_guess)\n",
        "        except ValueError:\n",
        "            print(\"Please enter a valid integer.\")\n",
        "            continue\n",
        "\n",
        "        if user_guess == number:\n",
        "            guess_count += 1\n",
        "            print(f\"You got it! It took you {guess_count} {'guess' if guess_count == 1 else 'guesses'}.\")\n",
        "            break\n",
        "        elif user_guess > number:\n",
        "            guess_count += 1\n",
        "            print(\"Too High.\")\n",
        "        else:\n",
        "            guess_count += 1\n",
        "            print(\"Too Low.\")\n",
        "guess_the_number()"
      ]
    },
    {
      "cell_type": "markdown",
      "metadata": {
        "id": "ObPAbmxVyZlO"
      },
      "source": [
        "It took me approximately 3 hours to complete this- much of the code was a little confusing to get a hang of but I definitely was glad when it finally ran."
      ]
    }
  ],
  "metadata": {
    "colab": {
      "provenance": []
    },
    "kernelspec": {
      "display_name": "Python 3",
      "name": "python3"
    },
    "language_info": {
      "name": "python"
    }
  },
  "nbformat": 4,
  "nbformat_minor": 0
}