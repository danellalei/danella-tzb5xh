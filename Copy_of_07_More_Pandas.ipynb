{
  "nbformat": 4,
  "nbformat_minor": 0,
  "metadata": {
    "colab": {
      "provenance": []
    },
    "kernelspec": {
      "name": "python3",
      "display_name": "Python 3"
    },
    "language_info": {
      "name": "python"
    }
  },
  "cells": [
    {
      "cell_type": "markdown",
      "source": [
        "# More pandas exercises\n",
        "\n",
        "Create a Colab notebook. Complete the tasks as specified in the directions. Run each cell to return the desired output. Save your notebook back to your GitHub repository and submit the GitHub URL for your notebook for review."
      ],
      "metadata": {
        "id": "phbaQTT5gy8A"
      }
    },
    {
      "cell_type": "markdown",
      "source": [
        "1.  Load the following dataset into Colab and perform the requested operations in code.\n",
        "\n",
        " Source: https://ds1002-resources.s3.amazonaws.com/data/ride_sharing.csv"
      ],
      "metadata": {
        "id": "WlPHuSLARJBJ"
      }
    },
    {
      "cell_type": "code",
      "source": [
        "# Load pandas and the data\n",
        "import pandas as pd\n",
        "import numpy as np"
      ],
      "metadata": {
        "id": "kdFLCHtOg53p"
      },
      "execution_count": 10,
      "outputs": []
    },
    {
      "cell_type": "markdown",
      "source": [],
      "metadata": {
        "id": "p0va84OGteNv"
      }
    },
    {
      "cell_type": "code",
      "source": [
        "# show how many rows and columns are in this datas\n",
        "ride = pd.read_csv('/content/ride_sharing.csv')\n",
        "num_rows, num_columns = ride.shape\n",
        "\n",
        "print(\"Number of rows:\", num_rows)\n",
        "print(\"Number of columns:\", num_columns)"
      ],
      "metadata": {
        "id": "Lfh8suAyhKQW",
        "colab": {
          "base_uri": "https://localhost:8080/"
        },
        "outputId": "5d18432a-c461-40c8-9728-62901d8afaac"
      },
      "execution_count": 11,
      "outputs": [
        {
          "output_type": "stream",
          "name": "stdout",
          "text": [
            "Number of rows: 25760\n",
            "Number of columns: 10\n"
          ]
        }
      ]
    },
    {
      "cell_type": "code",
      "source": [
        "# The first column, \"duration\" is seen as a string.\n",
        "# Using two snippets of code, clean this column up so that\n",
        "# is now an integer (int64)\n",
        "ride['duration'] = ride['duration'].str.strip(' minutes')\n",
        "ride['duration'] = ride['duration'].astype('int64')"
      ],
      "metadata": {
        "id": "KK5-y9nzhMVq"
      },
      "execution_count": 12,
      "outputs": []
    },
    {
      "cell_type": "code",
      "source": [
        "# Now display the datatypes in the updated dataframe\n",
        "print(ride.dtypes)"
      ],
      "metadata": {
        "id": "QyGJUshvhz1J",
        "colab": {
          "base_uri": "https://localhost:8080/"
        },
        "outputId": "8be61ff1-56c9-4687-aa35-f4fe94346bdd"
      },
      "execution_count": 13,
      "outputs": [
        {
          "output_type": "stream",
          "name": "stdout",
          "text": [
            "duration            int64\n",
            "station_A_id        int64\n",
            "station_A_name     object\n",
            "station_B_id        int64\n",
            "station_B_name     object\n",
            "bike_id             int64\n",
            "user_type           int64\n",
            "user_birth_year     int64\n",
            "user_gender        object\n",
            "tire_size           int64\n",
            "dtype: object\n"
          ]
        }
      ]
    },
    {
      "cell_type": "code",
      "source": [
        "# Show the min and max values of ride durations (the shortest and longest rides)\n",
        "# Hint: If 'df' is the name of your dataframe, simply specify the column name\n",
        "# and then append the .min() or .max() methods.\n",
        "min_duration = ride['duration'].min()\n",
        "print(\"Shortest ride duration:\", min_duration, \"minutes\")\n",
        "\n",
        "max_duration = ride['duration'].max()\n",
        "print(\"Longest ride duration:\", max_duration, \"minutes\")"
      ],
      "metadata": {
        "id": "UCA1OswWh5b5",
        "colab": {
          "base_uri": "https://localhost:8080/"
        },
        "outputId": "1a303f43-d863-442a-af7b-65c0f7d9f0aa"
      },
      "execution_count": 14,
      "outputs": [
        {
          "output_type": "stream",
          "name": "stdout",
          "text": [
            "Shortest ride duration: 1 minutes\n",
            "Longest ride duration: 1372 minutes\n"
          ]
        }
      ]
    },
    {
      "cell_type": "code",
      "source": [
        "# Create a new dataframe object and populate it with rides that are 60 minutes or less.\n",
        "# Hint: Use the .query() method for the dataframe that we used in class.\n",
        "short_rides_df = ride.query('duration<= 60')\n",
        "\n",
        "print(short_rides_df.head())"
      ],
      "metadata": {
        "id": "K7mStv5kibbA",
        "colab": {
          "base_uri": "https://localhost:8080/"
        },
        "outputId": "55d532ca-a964-4191-f719-36df88d3658a"
      },
      "execution_count": 15,
      "outputs": [
        {
          "output_type": "stream",
          "name": "stdout",
          "text": [
            "   duration  station_A_id                                     station_A_name  \\\n",
            "0        12            81                                 Berry St at 4th St   \n",
            "1        24             3       Powell St BART Station (Market St at 4th St)   \n",
            "2         8            67  San Francisco Caltrain Station 2  (Townsend St...   \n",
            "3         4            16                            Steuart St at Market St   \n",
            "4        11            22                              Howard St at Beale St   \n",
            "\n",
            "   station_B_id                   station_B_name  bike_id  user_type  \\\n",
            "0           323               Broadway at Kearny     5480          2   \n",
            "1           118  Eureka Valley Recreation Center     5193          2   \n",
            "2            23    The Embarcadero at Steuart St     3652          3   \n",
            "3            28     The Embarcadero at Bryant St     1883          1   \n",
            "4           350             8th St at Brannan St     4626          2   \n",
            "\n",
            "   user_birth_year user_gender  tire_size  \n",
            "0             1959        Male         26  \n",
            "1             1965        Male         27  \n",
            "2             1993        Male         29  \n",
            "3             1979        Male         26  \n",
            "4             1994        Male         27  \n"
          ]
        }
      ]
    },
    {
      "cell_type": "code",
      "source": [
        "# Now show both the min and max values of the duration column for your new dataset.\n",
        "min_duration_short_rides = short_rides_df['duration'].min()\n",
        "print(\"Shortest ride duration in the filtered data set:\", min_duration_short_rides,\"minutes\")\n",
        "\n",
        "max_duration_short_rides = short_rides_df['duration'].max()\n",
        "print(\"Longest ride duration in the filtered data set:\", max_duration_short_rides,\"minutes\")"
      ],
      "metadata": {
        "id": "v63UdQjNi-w5",
        "colab": {
          "base_uri": "https://localhost:8080/"
        },
        "outputId": "c1824ea3-a1d2-486e-e38c-73ae8af75a2c"
      },
      "execution_count": 16,
      "outputs": [
        {
          "output_type": "stream",
          "name": "stdout",
          "text": [
            "Shortest ride duration in the filtered data set: 1 minutes\n",
            "Longest ride duration in the filtered data set: 60 minutes\n"
          ]
        }
      ]
    },
    {
      "cell_type": "code",
      "source": [
        "# Using the new dataframe, update it so that is ONLY has records where\n",
        "# the tire_size is 26.\n",
        "short_rides_df = short_rides_df.query('tire_size == 26')\n",
        "\n",
        "print(short_rides_df.head())"
      ],
      "metadata": {
        "id": "xTzb_j9rjGk2",
        "colab": {
          "base_uri": "https://localhost:8080/"
        },
        "outputId": "9956fe0c-338c-4845-dc60-da5bc464ca25"
      },
      "execution_count": 17,
      "outputs": [
        {
          "output_type": "stream",
          "name": "stdout",
          "text": [
            "    duration  station_A_id                                     station_A_name  \\\n",
            "0         12            81                                 Berry St at 4th St   \n",
            "3          4            16                            Steuart St at Market St   \n",
            "6         16            67  San Francisco Caltrain Station 2  (Townsend St...   \n",
            "9          5            30     San Francisco Caltrain (Townsend St at 4th St)   \n",
            "12         7             3       Powell St BART Station (Market St at 4th St)   \n",
            "\n",
            "    station_B_id                station_B_name  bike_id  user_type  \\\n",
            "0            323            Broadway at Kearny     5480          2   \n",
            "3             28  The Embarcadero at Bryant St     1883          1   \n",
            "6            107         17th St at Dolores St     1035          2   \n",
            "9             62   Victoria Manalo Draves Park      333          1   \n",
            "12            27       Beale St at Harrison St     1863          3   \n",
            "\n",
            "    user_birth_year user_gender  tire_size  \n",
            "0              1959        Male         26  \n",
            "3              1979        Male         26  \n",
            "6              1981        Male         26  \n",
            "9              1994        Male         26  \n",
            "12             1998        Male         26  \n"
          ]
        }
      ]
    },
    {
      "cell_type": "code",
      "source": [
        "# Finally, produce a count of all records with FEMALE riders\n",
        "# using the 26-inch wheeled rental bikes for their rentals of\n",
        "# one hour or less.\n",
        "female_riders_count = short_rides_df.query('user_gender == \"FEMALE\"').count()\n",
        "\n",
        "print(\"Number of records with FEMALE riders:\", female_riders_count['user_gender'])"
      ],
      "metadata": {
        "id": "0cwbfj66jrG9",
        "colab": {
          "base_uri": "https://localhost:8080/"
        },
        "outputId": "abf2b755-2068-403b-c0d0-979011d68987"
      },
      "execution_count": 18,
      "outputs": [
        {
          "output_type": "stream",
          "name": "stdout",
          "text": [
            "Number of records with FEMALE riders: 0\n"
          ]
        }
      ]
    },
    {
      "cell_type": "markdown",
      "source": [
        "2. Find the file `more-messy-data.csv` on GitHub and upload it into Google Colab.\n",
        "\n",
        "Create a new Pandas DataFrame from that data and perform the following steps."
      ],
      "metadata": {
        "id": "YIlxzTRQSrl3"
      }
    },
    {
      "cell_type": "code",
      "source": [
        "# Write a snippet of code that will display the number of duplicate rows exist in the DF.\n",
        "dupes = pd.read_csv('/content/more-messy-data.csv')\n",
        "\n",
        "print(dupes.duplicated().sum())"
      ],
      "metadata": {
        "id": "6O1caoy6S82Q",
        "colab": {
          "base_uri": "https://localhost:8080/"
        },
        "outputId": "35c2a8b6-5d3d-4782-8b2c-3cedce862639"
      },
      "execution_count": 38,
      "outputs": [
        {
          "output_type": "stream",
          "name": "stdout",
          "text": [
            "287\n"
          ]
        }
      ]
    },
    {
      "cell_type": "code",
      "source": [
        "# Next, remove all duplicate rows using Python.\n",
        "dupes = dupes.drop_duplicates()"
      ],
      "metadata": {
        "id": "-pDZ2xA-S8vd"
      },
      "execution_count": 39,
      "outputs": []
    },
    {
      "cell_type": "code",
      "source": [
        "# For the FOUR columns involving sepal and petal length and width, update all NaN\n",
        "# values with the column mean.\n",
        "columns_to_fill = ['sepal_length', 'sepal_width', 'petal_length', 'petal_width']\n",
        "\n",
        "\n",
        "for column in columns_to_fill:\n",
        "\n",
        "    dupes[column] = pd.to_numeric(dupes[column], errors='coerce')\n",
        "\n",
        "    column_mean = dupes[column].mean(skipna=True)\n",
        "\n",
        "    dupes[column].fillna(column_mean, inplace=True)\n",
        "\n",
        "print(dupes)"
      ],
      "metadata": {
        "id": "Quf-P7L4S8oh",
        "colab": {
          "base_uri": "https://localhost:8080/"
        },
        "outputId": "28afa185-f191-4b87-abd4-99fae3e7a805"
      },
      "execution_count": 40,
      "outputs": [
        {
          "output_type": "stream",
          "name": "stdout",
          "text": [
            "       id  sepal_length  sepal_width  petal_length  petal_width     species\n",
            "0       1      3.500000      2.90000           1.4       0.5000   virginica\n",
            "1       2      3.600000      3.20000           3.0       0.5000      setosa\n",
            "2       3      3.800000      2.98876           2.2       1.5000      setosa\n",
            "3       4      5.800000      2.70000           2.6       1.2000   virginica\n",
            "4       5      4.900000      3.60000           3.0       1.2000   virginica\n",
            "...   ...           ...          ...           ...          ...         ...\n",
            "1311  412      4.522004      3.60000           2.9       0.5000  Versicolor\n",
            "1312  413      5.800000      2.70000           2.0       0.1000  Versicolor\n",
            "1313  414      3.300000      3.70000           1.3       2.8000  Versicolor\n",
            "1314  415      3.100000      2.98876           1.1       1.5574  Versicolor\n",
            "1315  416      4.300000      2.50000           1.3       1.0000  Versicolor\n",
            "\n",
            "[1029 rows x 6 columns]\n"
          ]
        }
      ]
    },
    {
      "cell_type": "code",
      "source": [
        "# Find any values in the dataframe that are still missing, and delete them.\n",
        "missing_rows = dupes.isnull().any(axis=1)\n",
        "\n",
        "dupes_cleaned = dupes[~missing_rows]\n",
        "\n",
        "print(dupes_cleaned.shape)"
      ],
      "metadata": {
        "id": "en_ReYsAS8f-",
        "colab": {
          "base_uri": "https://localhost:8080/"
        },
        "outputId": "8e13bf35-3a4f-4025-c662-eaad6c98e79d"
      },
      "execution_count": 44,
      "outputs": [
        {
          "output_type": "stream",
          "name": "stdout",
          "text": [
            "(963, 6)\n"
          ]
        }
      ]
    },
    {
      "cell_type": "code",
      "source": [
        "# How many different species are there?\n",
        "num_species = len(dupes['species'].unique())\n",
        "\n",
        "print(\"Number of different species:\", num_species)"
      ],
      "metadata": {
        "id": "uqV9IHwDS75a",
        "colab": {
          "base_uri": "https://localhost:8080/"
        },
        "outputId": "6d188188-469a-4fb1-e05c-23fbd9f99bfb"
      },
      "execution_count": 45,
      "outputs": [
        {
          "output_type": "stream",
          "name": "stdout",
          "text": [
            "Number of different species: 11\n"
          ]
        }
      ]
    },
    {
      "cell_type": "code",
      "source": [
        "# Clean up the 'species' variable so that there are exactly three different values.\n",
        "species_mapping = {\n",
        "    'similar_species_1': 'new_species_1',\n",
        "    'similar_species_2': 'new_species_2',\n",
        "    'similar_species_3': 'new_species_3',\n",
        "\n",
        "}\n",
        "\n",
        "dupes['species'] = dupes['species'].map(species_mapping).fillna(dupes['species'])\n",
        "\n",
        "print(dupes['species'].unique())"
      ],
      "metadata": {
        "id": "G2j8HDgYT52P",
        "colab": {
          "base_uri": "https://localhost:8080/"
        },
        "outputId": "8fd0a8ea-0266-4ea8-e3ca-7c65dfa14816"
      },
      "execution_count": 47,
      "outputs": [
        {
          "output_type": "stream",
          "name": "stdout",
          "text": [
            "['virginica' 'setosa' 'Versicolor' 'setoso' nan 'Viginica' 'Virginia'\n",
            " 'Virginica' 'Setosa' 'Setosan' 'versicolor']\n"
          ]
        }
      ]
    },
    {
      "cell_type": "markdown",
      "source": [
        "3. Bonus:  Regular expressions\n",
        "\n",
        "Ordinary (non-vanity) Virginia license plates have the form `ABC1234`, meaning they have three upper case letters followed by four digits.  Write a regular expression that matches any string of this form (and doesn't match anything else).  Test your expression with code to make sure it works.\n",
        "\n",
        "To figure out out how to do this, start with the sample code below.  The `re` package has various functions related to regular expressions, including for example `match()`, which takes two arguments, first the regular expression and second the test string, and tests to see whether the *beginning* of the `test` string matches the pattern `exp`.\n",
        "\n",
        "Note that `re.match(exp,test)` does not return a boolean variable, as you might expect (in other words, a match doesn't return `True` and a non-match `False`).  The type of object you get is called `re.Match`, which is a data type special to the `re` package.  (The reason for this is that the object contains more information than just whether there is a match or not.) However, you can turn it into a boolean using `bool()` if you want.\n",
        "\n",
        "Include the following in the notebook you submit:\n",
        "\n",
        " 1. A regular expression in a text chunk\n",
        " 2. One or more code chunks in which you test several strings to verify that your regex is correct.\n",
        " 3. Make sure you display the results of testing various strings.\n",
        "\n",
        " See this [documentation page](https://docs.python.org/3/howto/regex.html#regex-howto) for further help."
      ],
      "metadata": {
        "id": "CsMBqFDmX7Ax"
      }
    },
    {
      "cell_type": "code",
      "source": [
        "# Sample code for testing whether a string matches a regex\n",
        "\n",
        "# First import this package for working with regular expressions\n",
        "import re\n",
        "\n",
        "# Here is an example.\n",
        "# Play around with different expressions and test strings to see what happens.\n",
        "exp = 'ab+'\n",
        "test = 'aabbbc'\n",
        "\n",
        "if re.match(exp,test):\n",
        "  print(\"match!\")\n",
        "else:\n",
        "  print(\"no match\")\n",
        "\n",
        "# uncomment this line if you want\n",
        "# print(type(re.match(exp,test)))\n",
        "\n",
        "# uncomment this line if you want\n",
        "# print(bool(re.match(exp,test)))"
      ],
      "metadata": {
        "id": "LKbpBAxJZnXp"
      },
      "execution_count": null,
      "outputs": []
    }
  ]
}