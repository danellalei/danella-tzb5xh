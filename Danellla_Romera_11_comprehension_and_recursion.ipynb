{
  "nbformat": 4,
  "nbformat_minor": 0,
  "metadata": {
    "colab": {
      "provenance": []
    },
    "kernelspec": {
      "name": "python3",
      "display_name": "Python 3"
    },
    "language_info": {
      "name": "python"
    }
  },
  "cells": [
    {
      "cell_type": "markdown",
      "source": [
        "## Assignment 11\n",
        "Due Monday 15 April at noon"
      ],
      "metadata": {
        "id": "y6mGkyWrqph3"
      }
    },
    {
      "cell_type": "markdown",
      "source": [
        "### List comprehension\n",
        "\n",
        "Many of you resisted my recommendation to use list comprehensions in the previous assignment, and so my hand is forced.  You made me require it.\n",
        "\n",
        "\n",
        "Problem 1.  For each function you write below, you may assume the list being sent to the function will contain the appropriate data type.\n",
        "\n",
        "Use list comprehensions to create a function that will take a list `l` and return . . ."
      ],
      "metadata": {
        "id": "eBJulsWBngse"
      }
    },
    {
      "cell_type": "markdown",
      "source": [
        "(a) . . . a list containing the absolute value of each element of `l`"
      ],
      "metadata": {
        "id": "1h4hKDEqo5T_"
      }
    },
    {
      "cell_type": "code",
      "source": [
        "l = [1, -2, -3, 4, 5, -6, 7, 8, -9, 10]\n",
        "def absolute_values(l):\n",
        "  return [abs(x) for x in l]\n",
        "ab_values = absolute_values(l)\n",
        "print(ab_values)"
      ],
      "metadata": {
        "id": "LNltsHhtngLS",
        "colab": {
          "base_uri": "https://localhost:8080/"
        },
        "outputId": "e205378a-1405-484b-e338-395c94d57254"
      },
      "execution_count": 11,
      "outputs": [
        {
          "output_type": "stream",
          "name": "stdout",
          "text": [
            "[1, 2, 3, 4, 5, 6, 7, 8, 9, 10]\n"
          ]
        }
      ]
    },
    {
      "cell_type": "markdown",
      "source": [
        "(b) . . . a list containing `True` for each even number in `l` and `False` for each odd number in `l`"
      ],
      "metadata": {
        "id": "mqIbzaTvpLCV"
      }
    },
    {
      "cell_type": "code",
      "source": [
        "def even_odd(l):\n",
        "  return [True if x % 2 == 0 else False for x in l]\n",
        "even_and_odds = even_odd(l)\n",
        "print(even_and_odds)\n"
      ],
      "metadata": {
        "id": "0OTpQFX9pK0t",
        "colab": {
          "base_uri": "https://localhost:8080/"
        },
        "outputId": "ed9e7d89-17aa-4172-89de-966dc016496b"
      },
      "execution_count": 12,
      "outputs": [
        {
          "output_type": "stream",
          "name": "stdout",
          "text": [
            "[False, True, False, True, False, True, False, True, False, True]\n"
          ]
        }
      ]
    },
    {
      "cell_type": "markdown",
      "source": [
        "(c) . . . a list containing only the numbers in `l` that are divisible by 3"
      ],
      "metadata": {
        "id": "9yqVg2hApUY9"
      }
    },
    {
      "cell_type": "code",
      "source": [
        "def div_by_3(l):\n",
        "  return [x for x in l if x % 3 == 0]\n",
        "div_by_three = div_by_3(l)\n",
        "print(div_by_three)"
      ],
      "metadata": {
        "id": "2mP_1aYZpUF4",
        "colab": {
          "base_uri": "https://localhost:8080/"
        },
        "outputId": "e77e8121-445c-4702-b7a9-e16ad794c810"
      },
      "execution_count": 13,
      "outputs": [
        {
          "output_type": "stream",
          "name": "stdout",
          "text": [
            "[-3, -6, -9]\n"
          ]
        }
      ]
    },
    {
      "cell_type": "markdown",
      "source": [
        "(d) . . . a list containing only the words in `l` whose first and last letters are the same"
      ],
      "metadata": {
        "id": "2yClgYZupef1"
      }
    },
    {
      "cell_type": "code",
      "source": [
        "l = ['boots', 'house', 'america', 'fluff', 'the', 'hash']\n",
        "def same_letter(l):\n",
        "  return [word for word in l if word[0] == word[-1]]\n",
        "same_beg_and_end = same_letter(l)\n",
        "print(same_beg_and_end)\n"
      ],
      "metadata": {
        "id": "-l7XnemMpeCi",
        "colab": {
          "base_uri": "https://localhost:8080/"
        },
        "outputId": "4eebb105-ddc8-4f22-8c4c-cd32028c7a21"
      },
      "execution_count": 14,
      "outputs": [
        {
          "output_type": "stream",
          "name": "stdout",
          "text": [
            "['america', 'fluff', 'hash']\n"
          ]
        }
      ]
    },
    {
      "cell_type": "markdown",
      "source": [
        "(e) . . . a list containing the first letter of each word in `l` that ends with a vowel"
      ],
      "metadata": {
        "id": "1mqMysFKppZS"
      }
    },
    {
      "cell_type": "code",
      "source": [
        "vowels = \"aeiou\"\n",
        "def first_letter_vowel(l):\n",
        "  return [word[0] for word in l if word[-1] in vowels]\n",
        "first_let_end_vowel = first_letter_vowel(l)\n",
        "print(first_let_end_vowel)"
      ],
      "metadata": {
        "id": "1Gi3andbppDc",
        "colab": {
          "base_uri": "https://localhost:8080/"
        },
        "outputId": "d46c3b61-fd14-4dca-b6a8-b3d7c55a939d"
      },
      "execution_count": 15,
      "outputs": [
        {
          "output_type": "stream",
          "name": "stdout",
          "text": [
            "['h', 'a', 't']\n"
          ]
        }
      ]
    },
    {
      "cell_type": "markdown",
      "source": [
        "### Multiplication as a recursive process\n",
        "Problem 2.  Write a recursive function that computes the product of two positive integers `a` and `b` by adding `a` to itself `b` times.\n",
        "\n",
        "Hints:  \n",
        "1. if `b=1` then the product is `a`.\n",
        "2. if `b>1` then the product is what you get by adding `a` to `a * (b-1)`.\n",
        "\n",
        "Note:  the purpose of this exercise is to practice writing recursive functions.  Of course you can trivially ask for `a*b` and get the correct answer but that is worth no points.  Your function should not use any multiplications.\n"
      ],
      "metadata": {
        "id": "iV4ysawxjsiE"
      }
    },
    {
      "cell_type": "code",
      "execution_count": 18,
      "metadata": {
        "id": "wc9Y1d7ejrvH",
        "colab": {
          "base_uri": "https://localhost:8080/"
        },
        "outputId": "790a13f4-c4e2-465b-844b-9c14c08f5d61"
      },
      "outputs": [
        {
          "output_type": "stream",
          "name": "stdout",
          "text": [
            "The product is 24 .\n"
          ]
        }
      ],
      "source": [
        "def recursive_multiplication(a, b):\n",
        "  if b == 1:\n",
        "    return a\n",
        "  return a + recursive_multiplication(a, b - 1)\n",
        "product = recursive_multiplication(8, 3)\n",
        "print('The product is',product, '.')"
      ]
    },
    {
      "cell_type": "markdown",
      "source": [
        "### Division as a recursive process\n",
        "\n",
        "Problem 3:  Write a recursive function that takes two positive integers `a` and `b` and returns the quotient `q` and remainder `r` obtained when `a` is divided by `b`.\n",
        "\n",
        "Hints:  \n",
        "1. If `a<b` then what should `q` and `r` be?\n",
        "\n",
        "2. If `a>b` then think about how `q` and `r` are related to the values you would get from dividing `a-b` by `b`."
      ],
      "metadata": {
        "id": "A5xI1LxDkxn0"
      }
    },
    {
      "cell_type": "code",
      "source": [
        "def recursive_division(a,b):\n",
        "  if a < b:\n",
        "    return 0, a\n",
        "  q, r = recursive_division(a - b, b)\n",
        "  return q + 1, r\n",
        "quotient, remainder = recursive_division(42, 3)\n",
        "print(\"The quotient is\", quotient, '.')\n",
        "print('The remainder is', remainder, '.')"
      ],
      "metadata": {
        "id": "_3aRmkgJkxUW",
        "colab": {
          "base_uri": "https://localhost:8080/"
        },
        "outputId": "5204df5b-eb38-4d2c-9d23-54864503313c"
      },
      "execution_count": 20,
      "outputs": [
        {
          "output_type": "stream",
          "name": "stdout",
          "text": [
            "The quotient is 14 .\n",
            "The remainder is 0 .\n"
          ]
        }
      ]
    },
    {
      "cell_type": "markdown",
      "source": [
        "### The dot product of two vectors\n",
        "\n",
        "Problem 4.  Write a recursive function `dot()` that takes two lists of numbers, of equal length, and returns the sum of the products of the elements of the same index from each list. For example, if `V=[1,2,3]` and `W=[4,5,6]` then the function should return the value $(1 \\cdot 4) + (2\\cdot 5) + (3\\cdot 6)$, which equals 32.  In physics and linear algebra, this is called the \"dot product\" of the vectors `V` and `W`.\n",
        "\n",
        "Other examples:\n",
        "```\n",
        "dot([3],[4])\n",
        "12\n",
        "\n",
        "dot([1,1,0],[2,7,17])\n",
        "9\n",
        "```\n",
        "Hints:\n",
        "1. How is `dot(V,W)` related to `dot(V[1:],W[1:])`?\n",
        "2. What should happen if the lists are empty?"
      ],
      "metadata": {
        "id": "OkBK7gvglJ3u"
      }
    },
    {
      "cell_type": "code",
      "source": [
        "V=[1, 2, 3]\n",
        "W=[4, 5, 6]\n",
        "def dot(V, W, index=0):\n",
        "  if index == len(V):\n",
        "    return 0\n",
        "  return V[0] * W[0] + dot(V[1:], W[1:])\n",
        "dot_product = dot(V, W)\n",
        "print('The dot product is',dot_product, '.')"
      ],
      "metadata": {
        "id": "LZXs6lkslJqm",
        "colab": {
          "base_uri": "https://localhost:8080/"
        },
        "outputId": "3ef912da-fd9a-4848-dcb6-748afb804cee"
      },
      "execution_count": 21,
      "outputs": [
        {
          "output_type": "stream",
          "name": "stdout",
          "text": [
            "The dot product is 32 .\n"
          ]
        }
      ]
    }
  ]
}