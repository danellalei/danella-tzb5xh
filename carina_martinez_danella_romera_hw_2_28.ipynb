{
  "nbformat": 4,
  "nbformat_minor": 0,
  "metadata": {
    "colab": {
      "provenance": []
    },
    "kernelspec": {
      "name": "python3",
      "display_name": "Python 3"
    },
    "language_info": {
      "name": "python"
    }
  },
  "cells": [
    {
      "cell_type": "markdown",
      "source": [
        "I (Carina Martinez) worked with Danella Romera on this assignment."
      ],
      "metadata": {
        "id": "s7lx8wz6Zdqu"
      }
    },
    {
      "cell_type": "code",
      "source": [
        "!pip install english_words\n",
        "from english_words import get_english_words_set\n",
        "words = get_english_words_set(['web2'], lower=True)"
      ],
      "metadata": {
        "id": "x2o5jN2iZht-"
      },
      "execution_count": null,
      "outputs": []
    },
    {
      "cell_type": "code",
      "execution_count": null,
      "metadata": {
        "colab": {
          "base_uri": "https://localhost:8080/"
        },
        "id": "A7uRrFfdZci-",
        "outputId": "d27550ef-9a7f-4ed2-be2f-15ca59df60ab"
      },
      "outputs": [
        {
          "output_type": "stream",
          "name": "stdout",
          "text": [
            "<class 'set'>\n"
          ]
        }
      ],
      "source": [
        "print(type(words))"
      ]
    },
    {
      "cell_type": "markdown",
      "source": [
        "1. The variable *words* is a data set."
      ],
      "metadata": {
        "id": "HrFm3tSdZ5cG"
      }
    },
    {
      "cell_type": "code",
      "source": [
        "wordlist = list(words)\n",
        "print(type(wordlist))\n",
        "len(wordlist)"
      ],
      "metadata": {
        "colab": {
          "base_uri": "https://localhost:8080/"
        },
        "id": "4ymF8yRuZ75K",
        "outputId": "7238c598-d758-463f-e532-4b167e3ef581"
      },
      "execution_count": null,
      "outputs": [
        {
          "output_type": "stream",
          "name": "stdout",
          "text": [
            "<class 'list'>\n"
          ]
        },
        {
          "output_type": "execute_result",
          "data": {
            "text/plain": [
              "234450"
            ]
          },
          "metadata": {},
          "execution_count": 3
        }
      ]
    },
    {
      "cell_type": "markdown",
      "source": [
        "1. The data set is now a list. There are 234450 words in the list *wordlist*."
      ],
      "metadata": {
        "id": "R40JZR7kZ_rW"
      }
    },
    {
      "cell_type": "code",
      "source": [
        "wordlist[:10]"
      ],
      "metadata": {
        "colab": {
          "base_uri": "https://localhost:8080/"
        },
        "id": "_wESn4UTaF99",
        "outputId": "c75b5e59-0cb5-487e-9751-d8164b05fd9d"
      },
      "execution_count": null,
      "outputs": [
        {
          "output_type": "execute_result",
          "data": {
            "text/plain": [
              "['foldboat',\n",
              " 'chymia',\n",
              " 'araucarian',\n",
              " 'tassah',\n",
              " 'talebook',\n",
              " 'paddywack',\n",
              " 'peeve',\n",
              " 'miscompute',\n",
              " 'proetidae',\n",
              " 'reactivity']"
            ]
          },
          "metadata": {},
          "execution_count": 4
        }
      ]
    },
    {
      "cell_type": "markdown",
      "source": [
        "2. We noticed that the words are not in alphabetical order, and that the words are rather long---they're also words that are not commonly used."
      ],
      "metadata": {
        "id": "pkcFjIDlaKCn"
      }
    },
    {
      "cell_type": "code",
      "source": [
        "alpha_list = sorted(wordlist[:10])\n",
        "alpha_list"
      ],
      "metadata": {
        "colab": {
          "base_uri": "https://localhost:8080/"
        },
        "id": "3mL3f7lQaQaP",
        "outputId": "2a235078-a7d7-4068-e9b8-097ee26375b0"
      },
      "execution_count": null,
      "outputs": [
        {
          "output_type": "execute_result",
          "data": {
            "text/plain": [
              "['araucarian',\n",
              " 'chymia',\n",
              " 'foldboat',\n",
              " 'miscompute',\n",
              " 'paddywack',\n",
              " 'peeve',\n",
              " 'proetidae',\n",
              " 'reactivity',\n",
              " 'talebook',\n",
              " 'tassah']"
            ]
          },
          "metadata": {},
          "execution_count": 7
        }
      ]
    },
    {
      "cell_type": "markdown",
      "source": [
        "3."
      ],
      "metadata": {
        "id": "1VVP4iuDE_6f"
      }
    },
    {
      "cell_type": "code",
      "source": [
        "start_w_a = 0\n",
        "for word in wordlist:\n",
        "  if word.startswith('a'):\n",
        "    start_w_a += 1\n",
        "  else:\n",
        "    start_w_a += 0\n",
        "start_w_a"
      ],
      "metadata": {
        "id": "Yzx4cOyIa8mz",
        "colab": {
          "base_uri": "https://localhost:8080/"
        },
        "outputId": "cfc3e481-fe4d-44ec-c225-3c786a13e4e3"
      },
      "execution_count": null,
      "outputs": [
        {
          "output_type": "execute_result",
          "data": {
            "text/plain": [
              "16982"
            ]
          },
          "metadata": {},
          "execution_count": 15
        }
      ]
    },
    {
      "cell_type": "code",
      "source": [
        "words_w_q = 0\n",
        "for word in wordlist:\n",
        "  if 'q' in word:\n",
        "    words_w_q += 1\n",
        "  else:\n",
        "    words_w_q += 0\n",
        "words_w_q"
      ],
      "metadata": {
        "id": "sHZ9XNdjbbUm",
        "colab": {
          "base_uri": "https://localhost:8080/"
        },
        "outputId": "654162d0-9f6f-49e8-b532-50ad9ee32ef9"
      },
      "execution_count": null,
      "outputs": [
        {
          "output_type": "execute_result",
          "data": {
            "text/plain": [
              "3624"
            ]
          },
          "metadata": {},
          "execution_count": 14
        }
      ]
    },
    {
      "cell_type": "code",
      "source": [
        "no_e = 0\n",
        "for word in wordlist:\n",
        "  if 'e' in word:\n",
        "    no_e += 0\n",
        "  else:\n",
        "    no_e += 1\n",
        "print(no_e)"
      ],
      "metadata": {
        "id": "C6QwyrFrclED",
        "colab": {
          "base_uri": "https://localhost:8080/"
        },
        "outputId": "ddf9a34c-bee0-48f8-b589-a63e6e0f6140"
      },
      "execution_count": null,
      "outputs": [
        {
          "output_type": "stream",
          "name": "stdout",
          "text": [
            "76966\n"
          ]
        }
      ]
    },
    {
      "cell_type": "markdown",
      "source": [
        "4-5.\n",
        "\n",
        "There are 16,982 words that starts with the letter 'a', and 3,624 words that have the letter 'q' in them.\n",
        "\n",
        "There are 76,966 words that do not have an 'e' in them, therefore meaning that 0.33 (33%, or 3/10) of the words do not have the letter 'e'."
      ],
      "metadata": {
        "id": "aGsUv8sMey9c"
      }
    },
    {
      "cell_type": "code",
      "source": [
        "import numpy as np\n",
        "wordlist_array = np.array(wordlist)\n",
        "alpha_list_array = np.array(alpha_list)\n",
        "alphabet = [chr(i) for i in range(ord('a'),ord('z')+1)]\n",
        "print(alphabet)"
      ],
      "metadata": {
        "colab": {
          "base_uri": "https://localhost:8080/"
        },
        "id": "alnLZOoBfDcE",
        "outputId": "f18c48c8-3336-4ac3-9c4d-1d4f3dfd3d41"
      },
      "execution_count": null,
      "outputs": [
        {
          "output_type": "stream",
          "name": "stdout",
          "text": [
            "['a', 'b', 'c', 'd', 'e', 'f', 'g', 'h', 'i', 'j', 'k', 'l', 'm', 'n', 'o', 'p', 'q', 'r', 's', 't', 'u', 'v', 'w', 'x', 'y', 'z']\n"
          ]
        }
      ]
    },
    {
      "cell_type": "markdown",
      "source": [
        "6. 'alphabet' appears to be a list of the English alphabet in order from 'a' to 'z'."
      ],
      "metadata": {
        "id": "_fecFid8f_mc"
      }
    },
    {
      "cell_type": "code",
      "source": [
        "import matplotlib.pyplot as plt\n",
        "number_of_each = {}\n",
        "for alphabet in wordlist_array:\n",
        "  first_letter = alphabet[0]\n",
        "  if first_letter in number_of_each:\n",
        "   number_of_each[first_letter] += 1\n",
        "  else:\n",
        "    number_of_each[first_letter] = 1\n",
        "\n",
        "sort_first_letter = (sorted(number_of_each.items()))\n",
        "print(sort_first_letter)\n",
        "\n",
        "x = [\"a\",\"b\",\"c\",\"d\",'e','f','g','h','i','j','k','l','m','n','o','p','q','r','s','t','u','v','w','x','y','z']\n",
        "y = [16982, 10970, 19789, 10853, 8705, 6841, 6772, 8997, 8787, 1604, 2242, 6234, 12516, 6747, 7831, 24342, 1148, 9618, 24937, 12855, 16364, 3418, 3913, 380, 663, 942]\n",
        "plt.bar(x,y)\n",
        "plt.plot()\n",
        "plt.xlabel(\"First Letter\")\n",
        "plt.ylabel(\"Number of Each Letter\")\n",
        "plt.title(\"Number of Each First Letter Found in List\")\n",
        "plt.show()"
      ],
      "metadata": {
        "colab": {
          "base_uri": "https://localhost:8080/",
          "height": 510
        },
        "id": "3cJtQwoBgDFQ",
        "outputId": "0377d3b6-1f3f-48c2-fe80-52233ea39b7c"
      },
      "execution_count": null,
      "outputs": [
        {
          "output_type": "stream",
          "name": "stdout",
          "text": [
            "[('a', 16982), ('b', 10970), ('c', 19789), ('d', 10853), ('e', 8705), ('f', 6841), ('g', 6772), ('h', 8997), ('i', 8787), ('j', 1604), ('k', 2242), ('l', 6234), ('m', 12516), ('n', 6747), ('o', 7831), ('p', 24342), ('q', 1148), ('r', 9618), ('s', 24937), ('t', 12855), ('u', 16364), ('v', 3418), ('w', 3913), ('x', 380), ('y', 663), ('z', 942)]\n"
          ]
        },
        {
          "output_type": "display_data",
          "data": {
            "text/plain": [
              "<Figure size 640x480 with 1 Axes>"
            ],
            "image/png": "[encoded data removed]"
          },
          "metadata": {}
        }
      ]
    },
    {
      "cell_type": "markdown",
      "source": [
        "7. This graph shows the number of each first letter found in the words in alpha_list."
      ],
      "metadata": {
        "id": "caX77EqWhQjm"
      }
    },
    {
      "cell_type": "code",
      "source": [
        "''' By adding a boolean to reverse the order of the list, we get the 6 longest words instead if the six shortest. '''\n",
        "longest_words = sorted(wordlist, key=len, reverse=True)\n",
        "longest_words[:6]"
      ],
      "metadata": {
        "colab": {
          "base_uri": "https://localhost:8080/"
        },
        "id": "qTqja843hVrL",
        "outputId": "92d6d8a8-716e-46fd-ae7e-dedfe925c6a5"
      },
      "execution_count": null,
      "outputs": [
        {
          "output_type": "execute_result",
          "data": {
            "text/plain": [
              "['antidisestablishmentarianism',\n",
              " 'tetraiodophenolphthalein',\n",
              " 'pathologicopsychological',\n",
              " 'formaldehydesulphoxylate',\n",
              " 'thyroparathyroidectomize',\n",
              " 'scientificophilosophical']"
            ]
          },
          "metadata": {},
          "execution_count": 20
        }
      ]
    },
    {
      "cell_type": "markdown",
      "source": [
        "8. The six longest words are *antidisestablishmentarianism, tetraiodophenolphthalein, pathologiopsychological, formaldehydesulphoxylate, thyroparathyroidectomize* and *scientificophilosphical*."
      ],
      "metadata": {
        "id": "ExoDyYbhkVRO"
      }
    },
    {
      "cell_type": "code",
      "source": [
        "length_counts = {}\n",
        "for word in wordlist:\n",
        "  length = len(word)\n",
        "  if length in length_counts:\n",
        "    length_counts[length] += 1\n",
        "  else:\n",
        "    length_counts[length] = 1\n",
        "\n",
        "sort_length_counts = (sorted(length_counts.items()))\n",
        "print(sort_length_counts)\n",
        "\n",
        "''' The lines of code above are responsible for detecting the number of characters in each\n",
        " word by locating them in wordlist, and then sorting them. Displayed in the output above\n",
        "the histogram are the points found, with the x-value representing the number of words, and\n",
        " the y-value representing how many words//the frequency of that length of word. '''\n",
        "\n",
        "\n",
        "plt.bar(length_counts.keys(), length_counts.values())\n",
        "plt.xlabel(\"Length of Word\")\n",
        "plt.ylabel('Frequency')\n",
        "plt.title('Number of Words of Each Length Found in List')\n",
        "plt.show()"
      ],
      "metadata": {
        "colab": {
          "base_uri": "https://localhost:8080/",
          "height": 510
        },
        "id": "e2RuqE6AhcZb",
        "outputId": "6a963234-74a5-4c64-db2a-c452d9caffd1"
      },
      "execution_count": null,
      "outputs": [
        {
          "output_type": "stream",
          "name": "stdout",
          "text": [
            "[(1, 26), (2, 139), (3, 1300), (4, 5006), (5, 9979), (6, 17468), (7, 23723), (8, 29851), (9, 32294), (10, 30828), (11, 25968), (12, 20453), (13, 14925), (14, 9763), (15, 5923), (16, 3376), (17, 1814), (18, 842), (19, 428), (20, 198), (21, 82), (22, 41), (23, 17), (24, 5), (28, 1)]\n"
          ]
        },
        {
          "output_type": "display_data",
          "data": {
            "text/plain": [
              "<Figure size 640x480 with 1 Axes>"
            ],
            "image/png": "[encoded data removed]"
          },
          "metadata": {}
        }
      ]
    },
    {
      "cell_type": "markdown",
      "source": [
        "9. As we can see in the histogram, 9-letter words are the most common length of word in the wordlist."
      ],
      "metadata": {
        "id": "m1elR8TZrKFY"
      }
    },
    {
      "cell_type": "code",
      "source": [
        "v_and_a = 0\n",
        "for word in wordlist:\n",
        "  has_v = False\n",
        "  has_a = False\n",
        "  for char in word:\n",
        "    if char == 'v':\n",
        "      has_v = True\n",
        "    elif char == 'a':\n",
        "      has_a = True\n",
        "  if has_v and has_a:\n",
        "    v_and_a += 1\n",
        "v_and_a"
      ],
      "metadata": {
        "id": "svohwPQFxcuJ",
        "colab": {
          "base_uri": "https://localhost:8080/"
        },
        "outputId": "d5b38e4b-281b-4cdb-8807-c33dec4136cb"
      },
      "execution_count": null,
      "outputs": [
        {
          "output_type": "execute_result",
          "data": {
            "text/plain": [
              "11347"
            ]
          },
          "metadata": {},
          "execution_count": 22
        }
      ]
    },
    {
      "cell_type": "code",
      "source": [
        "''' Unlike questions 3-5, which only asked for one character, this question\n",
        "required us to create booleans to act as a sort of test to ensure that both characters\n",
        "are ensured to be present. If we hadn't done this, and had carried it out like the rest,\n",
        "then there'd be no way to tell whether the words actually had both of the characters or only one. '''\n",
        "\n",
        "w_and_l = 0\n",
        "for word in wordlist:\n",
        "  has_w = False\n",
        "  has_l = False\n",
        "  for char in word:\n",
        "    if char == 'w':\n",
        "      has_w = True\n",
        "    elif char == 'l':\n",
        "      has_l = True\n",
        "  if has_w and has_l:\n",
        "    w_and_l += 1\n",
        "w_and_l"
      ],
      "metadata": {
        "id": "Rlrl7V4gzHpW",
        "colab": {
          "base_uri": "https://localhost:8080/"
        },
        "outputId": "74b9a6a0-4d5b-4d23-aebd-08d947c912fa"
      },
      "execution_count": null,
      "outputs": [
        {
          "output_type": "execute_result",
          "data": {
            "text/plain": [
              "4822"
            ]
          },
          "metadata": {},
          "execution_count": 23
        }
      ]
    },
    {
      "cell_type": "markdown",
      "source": [
        "11. 11,347 of the words in wordlist contain both *v* and *a*, and 4,822 contain both *w* and *l*. According to the tiny font by the checkmark, it takes 0 seconds to run this loop through the word list."
      ],
      "metadata": {
        "id": "XA_raDUKzplP"
      }
    }
  ]
}