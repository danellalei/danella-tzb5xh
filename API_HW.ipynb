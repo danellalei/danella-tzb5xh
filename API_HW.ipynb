{
  "cells": [
    {
      "cell_type": "markdown",
      "metadata": {
        "id": "pqmUS6Qvp6dC"
      },
      "source": [
        "You have seen some examples of how to interact with JSON, CSV and make API Calls. Take\n",
        "some time to explore the YAHOO Finance Guide at https://financeapi.net/ which shows you\n",
        "endpoints for calling information. Your job is to code a Python Program that does the following\n",
        "things:\n",
        "\n",
        "1. Takes user input for a stock (using the Ticker Symbol): IE with the input() command\n",
        "2. You will display back the user: Ticker Name, Full Name of the Stock, Current Market\n",
        "Price, Target Mean Price, 52 week high and 52 week low. Also, output 5 of the current\n",
        "trending stock.\n",
        "3. Put that data in a DataFrame and then store that to a CSV file\n",
        "4. Handle Errors (IE, the stock doesn’t exist and/or the API is not returning information)"
      ]
    },
    {
      "cell_type": "code",
      "execution_count": 1,
      "metadata": {
        "id": "raFZH_jSp2vT"
      },
      "outputs": [],
      "source": [
        "import requests\n",
        "import json\n",
        "import pandas as pd\n",
        "\n",
        "apikey = \"ecDYxjrXb35A0GU7LG3HA1pOLOrRBit91pC0syv0\""
      ]
    },
    {
      "cell_type": "code",
      "execution_count": null,
      "metadata": {
        "id": "sTTwlsZqqakx"
      },
      "outputs": [],
      "source": [
        "print(\"Enter a comma seperated list of stocks\")\n",
        "stocks = input()\n",
        "stocks = stocks.upper()\n",
        "stocks = stocks.split(\",\")"
      ]
    },
    {
      "cell_type": "code",
      "execution_count": null,
      "metadata": {
        "colab": {
          "background_save": true,
          "base_uri": "https://localhost:8080/"
        },
        "id": "2h7o_kMnwZjK",
        "outputId": "fd2f1459-565e-4c12-9ef3-bbd27893e011"
      },
      "outputs": [
        {
          "name": "stdout",
          "output_type": "stream",
          "text": [
            "Enter a comma seperated list of stocks\n"
          ]
        }
      ],
      "source": [
        "import requests\n",
        "import json\n",
        "import pandas as pd\n",
        "\n",
        "apikey = \"ecDYxjrXb35A0GU7LG3HA1pOLOrRBit91pC0syv0\"\n",
        "\n",
        "url = \"https://yfapi.net/v6/finance/recommendationsbysymbol/AAPL\"\n",
        "url2 = \"https://yfapi.net/ws/insights/v1/finance/insights?symbol=AAPL\"\n",
        "\n",
        "headers = {\n",
        "    'x-api-key': apikey\n",
        "    }\n",
        "\n",
        "#The code below was not executed before the for loop was called\n",
        "print(\"Enter a comma seperated list of stocks\")\n",
        "stocks = input()\n",
        "stocks = stocks.upper()\n",
        "stocks = stocks.split(\",\")\n",
        "\n",
        "for x in stocks:\n",
        "    querystring = {\"symbols\": x}\n",
        "    querystring2 = {\"symbol\": x}\n",
        "\n",
        "    try:\n",
        "        response = requests.request(\"GET\", url, headers=headers, params=querystring)\n",
        "        stocks_json = response.json()\n",
        "\n",
        "        response2 = requests.request(\"GET\", url2, headers=headers, params=querystring2)\n",
        "        stocks2_json = response2.json()\n",
        "\n",
        "    except:\n",
        "        print(\"An error has occured on the API call. Make sure you are entering valid tickers in a comma seperated format and that the api key is valid\")\n",
        "        print(\"Ex: AAPL, amzn, Msft\")\n",
        "\n",
        "    else:\n",
        "        try:\n",
        "            print(stocks_json['quoteResponse']['result'][0][\"longName\"] + \" (\" + stocks_json['quoteResponse']['result'][0][\"symbol\"] + \")\" +\n",
        "                  \"\\n - Current Market price: $\" + str(stocks_json['quoteResponse']['result'][0][\"regularMarketPrice\"]) +\n",
        "                  \"\\n - Target Mean price: $\" + str(stocks2_json[\"finance\"][\"result\"][\"instrumentInfo\"][\"recommendation\"][\"targetPrice\"]) +\n",
        "                 \"\\n - 52 week high: \" + str(stocks_json['quoteResponse']['result'][0][\"fiftyTwoWeekHigh\"]) +\n",
        "                  \"\\n - 52 week low: \" + str(stocks_json['quoteResponse']['result'][0][\"fiftyTwoWeekLow\"])\n",
        "                 )\n",
        "        except:\n",
        "            print(\"\\n\" + x + \" is an invalid ticker \\n\")"
      ]
    },
    {
      "cell_type": "code",
      "execution_count": null,
      "metadata": {
        "colab": {
          "base_uri": "https://localhost:8080/"
        },
        "id": "9uqUSAxWwgO6",
        "outputId": "31bc17be-f677-4fec-ec34-65fb6e29b075"
      },
      "outputs": [
        {
          "name": "stdout",
          "output_type": "stream",
          "text": [
            "^N225\n",
            "NQ=F\n",
            "ES=F\n",
            "AMSC\n",
            "BTC-USD\n"
          ]
        }
      ],
      "source": [
        "urlTrending = \"https://yfapi.net/v1/finance/trending/US\"\n",
        "\n",
        "headers = {\n",
        "    'x-api-key': apikey\n",
        "}\n",
        "try:\n",
        "    response = requests.get(urlTrending, headers=headers)\n",
        "    trending_json = response.json()\n",
        "\n",
        "except:\n",
        "    print(\"An error has occured on the API call. Make sure you are using a valid api key with available daily calls\")\n",
        "\n",
        "ticker_list = []\n",
        "for quote in trending_json['finance']['result'][0]['quotes']:\n",
        "    ticker_list.append(quote['symbol'])\n",
        "\n",
        "for i in range(5):\n",
        "    print(ticker_list[i])"
      ]
    },
    {
      "cell_type": "code",
      "execution_count": null,
      "metadata": {
        "colab": {
          "base_uri": "https://localhost:8080/",
          "height": 373
        },
        "id": "83HgGDhyxGp4",
        "outputId": "32733cf2-8fb5-4918-bbf0-674bb848c02c"
      },
      "outputs": [
        {
          "name": "stdout",
          "output_type": "stream",
          "text": [
            "Enter a comma seperated list of stocks\n"
          ]
        },
        {
          "ename": "KeyboardInterrupt",
          "evalue": "Interrupted by user",
          "output_type": "error",
          "traceback": [
            "\u001b[0;31m---------------------------------------------------------------------------\u001b[0m",
            "\u001b[0;31mKeyboardInterrupt\u001b[0m                         Traceback (most recent call last)",
            "\u001b[0;32m<ipython-input-17-ff87fe0db55a>\u001b[0m in \u001b[0;36m<cell line: 3>\u001b[0;34m()\u001b[0m\n\u001b[1;32m      1\u001b[0m \u001b[0;31m# Add the following lines at the beginning of the cell to define the 'stocks' variable\u001b[0m\u001b[0;34m\u001b[0m\u001b[0;34m\u001b[0m\u001b[0m\n\u001b[1;32m      2\u001b[0m \u001b[0mprint\u001b[0m\u001b[0;34m(\u001b[0m\u001b[0;34m\"Enter a comma seperated list of stocks\"\u001b[0m\u001b[0;34m)\u001b[0m\u001b[0;34m\u001b[0m\u001b[0;34m\u001b[0m\u001b[0m\n\u001b[0;32m----> 3\u001b[0;31m \u001b[0mstocks\u001b[0m \u001b[0;34m=\u001b[0m \u001b[0minput\u001b[0m\u001b[0;34m(\u001b[0m\u001b[0;34m)\u001b[0m\u001b[0;34m\u001b[0m\u001b[0;34m\u001b[0m\u001b[0m\n\u001b[0m\u001b[1;32m      4\u001b[0m \u001b[0mstocks\u001b[0m \u001b[0;34m=\u001b[0m \u001b[0mstocks\u001b[0m\u001b[0;34m.\u001b[0m\u001b[0mupper\u001b[0m\u001b[0;34m(\u001b[0m\u001b[0;34m)\u001b[0m\u001b[0;34m\u001b[0m\u001b[0;34m\u001b[0m\u001b[0m\n\u001b[1;32m      5\u001b[0m \u001b[0mstocks\u001b[0m \u001b[0;34m=\u001b[0m \u001b[0mstocks\u001b[0m\u001b[0;34m.\u001b[0m\u001b[0msplit\u001b[0m\u001b[0;34m(\u001b[0m\u001b[0;34m\",\"\u001b[0m\u001b[0;34m)\u001b[0m\u001b[0;34m\u001b[0m\u001b[0;34m\u001b[0m\u001b[0m\n",
            "\u001b[0;32m/usr/local/lib/python3.10/dist-packages/ipykernel/kernelbase.py\u001b[0m in \u001b[0;36mraw_input\u001b[0;34m(self, prompt)\u001b[0m\n\u001b[1;32m    849\u001b[0m                 \u001b[0;34m\"raw_input was called, but this frontend does not support input requests.\"\u001b[0m\u001b[0;34m\u001b[0m\u001b[0;34m\u001b[0m\u001b[0m\n\u001b[1;32m    850\u001b[0m             )\n\u001b[0;32m--> 851\u001b[0;31m         return self._input_request(str(prompt),\n\u001b[0m\u001b[1;32m    852\u001b[0m             \u001b[0mself\u001b[0m\u001b[0;34m.\u001b[0m\u001b[0m_parent_ident\u001b[0m\u001b[0;34m,\u001b[0m\u001b[0;34m\u001b[0m\u001b[0;34m\u001b[0m\u001b[0m\n\u001b[1;32m    853\u001b[0m             \u001b[0mself\u001b[0m\u001b[0;34m.\u001b[0m\u001b[0m_parent_header\u001b[0m\u001b[0;34m,\u001b[0m\u001b[0;34m\u001b[0m\u001b[0;34m\u001b[0m\u001b[0m\n",
            "\u001b[0;32m/usr/local/lib/python3.10/dist-packages/ipykernel/kernelbase.py\u001b[0m in \u001b[0;36m_input_request\u001b[0;34m(self, prompt, ident, parent, password)\u001b[0m\n\u001b[1;32m    893\u001b[0m             \u001b[0;32mexcept\u001b[0m \u001b[0mKeyboardInterrupt\u001b[0m\u001b[0;34m:\u001b[0m\u001b[0;34m\u001b[0m\u001b[0;34m\u001b[0m\u001b[0m\n\u001b[1;32m    894\u001b[0m                 \u001b[0;31m# re-raise KeyboardInterrupt, to truncate traceback\u001b[0m\u001b[0;34m\u001b[0m\u001b[0;34m\u001b[0m\u001b[0m\n\u001b[0;32m--> 895\u001b[0;31m                 \u001b[0;32mraise\u001b[0m \u001b[0mKeyboardInterrupt\u001b[0m\u001b[0;34m(\u001b[0m\u001b[0;34m\"Interrupted by user\"\u001b[0m\u001b[0;34m)\u001b[0m \u001b[0;32mfrom\u001b[0m \u001b[0;32mNone\u001b[0m\u001b[0;34m\u001b[0m\u001b[0;34m\u001b[0m\u001b[0m\n\u001b[0m\u001b[1;32m    896\u001b[0m             \u001b[0;32mexcept\u001b[0m \u001b[0mException\u001b[0m \u001b[0;32mas\u001b[0m \u001b[0me\u001b[0m\u001b[0;34m:\u001b[0m\u001b[0;34m\u001b[0m\u001b[0;34m\u001b[0m\u001b[0m\n\u001b[1;32m    897\u001b[0m                 \u001b[0mself\u001b[0m\u001b[0;34m.\u001b[0m\u001b[0mlog\u001b[0m\u001b[0;34m.\u001b[0m\u001b[0mwarning\u001b[0m\u001b[0;34m(\u001b[0m\u001b[0;34m\"Invalid Message:\"\u001b[0m\u001b[0;34m,\u001b[0m \u001b[0mexc_info\u001b[0m\u001b[0;34m=\u001b[0m\u001b[0;32mTrue\u001b[0m\u001b[0;34m)\u001b[0m\u001b[0;34m\u001b[0m\u001b[0;34m\u001b[0m\u001b[0m\n",
            "\u001b[0;31mKeyboardInterrupt\u001b[0m: Interrupted by user"
          ]
        }
      ],
      "source": [
        "data = []\n",
        "\n",
        "for x in stocks:\n",
        "    querystring = {\"symbols\": x}\n",
        "    querystring2 = {\"symbol\": x}\n",
        "\n",
        "    try:\n",
        "        response = requests.request(\"GET\", url, headers=headers, params=querystring)\n",
        "        stocks_json = response.json()\n",
        "\n",
        "        response2 = requests.request(\"GET\", url2, headers=headers, params=querystring2)\n",
        "        stocks2_json = response2.json()\n",
        "\n",
        "    except:\n",
        "        print(\"An error has occured on the API call. Make sure you are entering valid tickers in a comma seperated format and that the api key is valid\")\n",
        "        print(\"Ex: AAPL, amzn, Msft\")\n",
        "\n",
        "    else:\n",
        "        try:\n",
        "            long_name = stocks_json['quoteResponse']['result'][0][\"longName\"]\n",
        "            symbol = stocks_json['quoteResponse']['result'][0][\"symbol\"]\n",
        "            current_market_price = stocks_json['quoteResponse']['result'][0][\"regularMarketPrice\"]\n",
        "            target_mean_price = stocks2_json[\"finance\"][\"result\"][\"instrumentInfo\"][\"recommendation\"][\"targetPrice\"]\n",
        "            fifty_two_week_high = stocks_json['quoteResponse']['result'][0][\"fiftyTwoWeekHigh\"]\n",
        "            fifty_two_week_low = stocks_json['quoteResponse']['result'][0][\"fiftyTwoWeekLow\"]\n",
        "\n",
        "            data.append({\n",
        "                \"Company Name\": long_name,\n",
        "                \"Symbol\": symbol,\n",
        "                \"Current Market Price ($)\": current_market_price,\n",
        "                \"Target Mean Price ($)\": target_mean_price,\n",
        "                \"52 Week High ($)\": fifty_two_week_high,\n",
        "                \"52 Week Low ($)\": fifty_two_week_low\n",
        "            })\n",
        "        except:\n",
        "            print(\"\\n\" + x + \" is an invalid ticker \\n\")\n",
        "\n",
        "data = pd.DataFrame(data)\n",
        "\n",
        "display(data)"
      ]
    }
  ],
  "metadata": {
    "colab": {
      "provenance": []
    },
    "kernelspec": {
      "display_name": "Python 3",
      "name": "python3"
    },
    "language_info": {
      "name": "python"
    }
  },
  "nbformat": 4,
  "nbformat_minor": 0
}