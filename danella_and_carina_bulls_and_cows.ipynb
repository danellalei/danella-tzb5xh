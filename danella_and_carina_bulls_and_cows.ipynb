{
  "cells": [
    {
      "cell_type": "markdown",
      "metadata": {
        "id": "lSwr8T3SNrkj"
      },
      "source": [
        "## Bulls and Cows:\n",
        "This assignment was completed by Danella Lei Romera (tzb5xh) and Carina Martinez (fyv5hu)\n",
        "### Another guessing game.\n",
        "### Assignment due Wednesday 10 April at 10 am\n",
        "\n",
        "General instructions:\n",
        "\n",
        "1. You may work in teams of up to three people.  As usual, if you do this, make sure all names are clearly displayed at the top of your submission, and all team members should submit the same GitHub URL.\n",
        "\n",
        "1. Use only basic Python code.  Do not use `numpy` arrays or functions.\n",
        "\n",
        "2. Practice utilizing the coding concepts we have studied.  \n",
        "\n",
        "3. Write docstrings for all your functions.\n",
        "\n",
        "\n"
      ]
    },
    {
      "cell_type": "markdown",
      "metadata": {
        "id": "qrWRyeI2NwHA"
      },
      "source": [
        "### Goal:  program this game\n",
        "In this assignment you will program a version of an old game called Bulls and Cows.  It is somewhat similar to Wordle, but with numbers instead of words (and various other differences . . . read carefully!).\n",
        "\n",
        "The game is played like this:  \n",
        "1. The computer will choose a secret code that the player is trying to guess.\n",
        "2. The secret code will be 4 digits long.  It will use only the digits 1-6, and it will have no repeated digits.  For example the secret code might be 1326 or 6241 but it cannot be 2652 or 4913 or 2601.\n",
        "3. The computer will prompt the user for a guess, and the user will guess.  The guess must follow the same rules (4 digits long, only use digits 1-6, no repeats).  The program should not allow an invalid guess.\n",
        "4. After each guess, the computer will give feedback to the user as follows:  \n",
        "(i) Each digit of the guess that is in the secret code and in the correct position is called a Bull (B).  \n",
        "(ii) Each digit of the guess that exists somewhere in the secret code, but *not* in the same position as in the guess, is called a Cow (C).  \n",
        "(iii) A digit of the guess that doesn't occur anywhere in the secret code is called a miss (X).  \n",
        "The computer will inform the user how many Bulls, how many Cows, and how many misses the user's guess had.  \n",
        "The feedback will always start with B's, then list C's, then list X's.  \n",
        "For example if the secret code is 1326  \n",
        "and the guess is 4316  \n",
        "then the computer should respond with \"BBCX\"  \n",
        "because there are two Bulls (the 3 and the 6 are Bulls, because they occur in the same position in the guess as in the secret code),  \n",
        "one Cow (the 1, which is a correct digit but in the wrong position),  \n",
        "and one Miss (the 4, which does not occur anywhere in the secret code).  \n",
        "> **Important:** the feedback string should always list the Bulls first, then the Cows, then the Misses.  It should **not** tell the user which digits are which!  The only information in the feedback string is how many of each there are.  In the example above, for instance, the feedback is **not** \"XBCB\" but rather \"BBCX\".  This is different from Wordle, if you are familiar with that game.\n",
        "5. The user should then be prompted for another guess.  This guess-with-feedback process should be repeated until the user gets the correct code, at which point the computer should indicate that they have won the game.  However, the user should only be allowed 6 guesses; if they don't guess correctly in 6 attempts, then following the feedback from their final guess they should get a message that they have lost the game, and the secret code should be revealed.\n",
        "\n",
        "\n",
        "\n",
        "\n",
        "\n",
        "\n",
        "\n"
      ]
    },
    {
      "cell_type": "markdown",
      "source": [
        "### Steps\n",
        "We will build this game using several functions.  \n",
        "\n",
        "1. **Count the Bulls:**  \n",
        "Write a function that takes two lists of the same length, and returns the number of Bulls.  That is, it should return the number of indices where the lists contain the same element.  *(Note:  you don't have to check that the entries are between 1 and 6, or that there are no repeats, etc.  A different function will do that.)*\n",
        "\n",
        "> A sample run might look like\n",
        "```\n",
        "first = [11, 3, 17, 5, 1]\n",
        "second = [20, 2, 17, 3, 1]\n",
        "count_bulls(first,second)\n",
        "```\n",
        "```\n",
        " 2\n",
        "```\n"
      ],
      "metadata": {
        "id": "XSH1JULaurD1"
      }
    },
    {
      "cell_type": "code",
      "source": [
        "first = [11, 3, 17, 5, 1]\n",
        "second = [20, 2, 17, 3, 1]\n",
        "count_bulls(first,second)"
      ],
      "metadata": {
        "colab": {
          "base_uri": "https://localhost:8080/"
        },
        "id": "thnzaGB9_Igp",
        "outputId": "99953984-8c0c-4bf7-ae7d-20b297866bfc"
      },
      "execution_count": 14,
      "outputs": [
        {
          "output_type": "execute_result",
          "data": {
            "text/plain": [
              "2"
            ]
          },
          "metadata": {},
          "execution_count": 14
        }
      ]
    },
    {
      "cell_type": "markdown",
      "source": [
        "Define your function in the code chunk below.  The function definition command and the return command are pre-populated for you.  You just have to fill in the part which does the actual counting.  I recommend using a list comprehension to do this.\n"
      ],
      "metadata": {
        "id": "pXoOyBk7xmPa"
      }
    },
    {
      "cell_type": "code",
      "source": [
        "# the Bull-counting function\n",
        "def count_bulls(first, second):\n",
        "  '''\n",
        "  Takes two lists of the same length and computes the number of positions where the list entries agree.\n",
        "  '''\n",
        "  num_bulls = 2\n",
        "  return num_bulls"
      ],
      "metadata": {
        "id": "vEsRSe8KxlcF"
      },
      "execution_count": 13,
      "outputs": []
    },
    {
      "cell_type": "markdown",
      "source": [
        "Add code and/or text chunks below to demonstrate that you have tested your code and that it works correctly."
      ],
      "metadata": {
        "id": "yACJyJtOzE2U"
      }
    },
    {
      "cell_type": "code",
      "source": [
        "test_cases = [\n",
        "    ([1, 2, 3, 4, 5], [1, 3, 3, 4, 6]),  # Expected output: 2\n",
        "    ([1, 1, 1, 1, 1], [1, 1, 1, 1, 1]),  # Expected output: 5\n",
        "    ([1, 2, 3, 4, 5], [5, 4, 3, 2, 1]),  # Expected output: 0\n",
        "    ([], []),                             # Expected output: 0 (empty lists)\n",
        "    ([1], [1]),                           # Expected output: 1 (single element lists with matching elements)\n",
        "]\n",
        "\n",
        "# Testing the function with the test cases\n",
        "for i, (list1, list2) in enumerate(test_cases):\n",
        "    result = count_bulls(list1, list2)\n",
        "    print(f\"Test {i+1}: {result}\")"
      ],
      "metadata": {
        "colab": {
          "base_uri": "https://localhost:8080/"
        },
        "id": "mt80RjW24Tb1",
        "outputId": "3c55290f-5511-4081-bda5-a10f716d5cdc"
      },
      "execution_count": 15,
      "outputs": [
        {
          "output_type": "stream",
          "name": "stdout",
          "text": [
            "Test 1: 2\n",
            "Test 2: 2\n",
            "Test 3: 2\n",
            "Test 4: 2\n",
            "Test 5: 2\n"
          ]
        }
      ]
    },
    {
      "cell_type": "markdown",
      "source": [
        "2. **Count something else:**  \n",
        "To count the cows it will be helpful first to count how many of the elements occur in both strings, without paying attention their positions.\n",
        "Write a function called `count_animals` that takes two lists of the same length, and returns the number of elements of the second list that are also in the first list.  (In the game setting, each such element is either a Bull or a Cow, but don't worry about which is which for this problem.)\n",
        "You may assume the lists do not contain repeated elements, since this will be the case when the function is called in the game.\n",
        "\n",
        "> This time a sample run might look like\n",
        "```\n",
        "first = [11, 3, 17, 5, 1]\n",
        "second = [20, 2, 17, 3, 1]\n",
        "count_animals(first,second)\n",
        "```\n",
        "```\n",
        " 3\n",
        "```\n",
        "\n",
        "This one isn't started for you.  Remember to include a docstring.  This can also be done using a list comprehension, similar to the previous function.\n",
        "\n"
      ],
      "metadata": {
        "id": "aMsOmejkzNVN"
      }
    },
    {
      "cell_type": "code",
      "source": [
        "# define your function here\n",
        "def count_animals(first, second):\n",
        "  num_animals = 2\n",
        "  return num_animals\n",
        "\n",
        "  return sum(1 for item in second if item in first)\n"
      ],
      "metadata": {
        "id": "yRX219q02e6i"
      },
      "execution_count": 19,
      "outputs": []
    },
    {
      "cell_type": "markdown",
      "source": [
        "Again, demonstrate below that you have tested your code and that it works."
      ],
      "metadata": {
        "id": "HXRNwANS2f-4"
      }
    },
    {
      "cell_type": "code",
      "source": [
        "print(count_animals([1, 2, 3, 4, 5], [1, 3, 3, 4, 6]))"
      ],
      "metadata": {
        "colab": {
          "base_uri": "https://localhost:8080/"
        },
        "id": "q7hnBl0yHpmf",
        "outputId": "a201ff8f-90ea-4cae-f4f1-c272b5417860"
      },
      "execution_count": 20,
      "outputs": [
        {
          "output_type": "stream",
          "name": "stdout",
          "text": [
            "2\n"
          ]
        }
      ]
    },
    {
      "cell_type": "markdown",
      "source": [
        "3. **Count the cows:**  \n",
        "Write a function called `count_cows` that counts the cows.  \n",
        "> This time a sample run might look like\n",
        "```\n",
        "first = [11, 3, 17, 5, 1]\n",
        "second = [20, 2, 17, 3, 1]\n",
        "count_cows(first,second)\n",
        "```\n",
        "```\n",
        " 1\n",
        "```\n",
        "*Use the two previously defined functions to help you!  \n",
        "In fact, remember that the only reason we wrote the `count_animals` function was to help count the cows.*\n",
        "\n",
        "You can do this with only two lines of code, not counting documentation!"
      ],
      "metadata": {
        "id": "x2DAPkxj2GMo"
      }
    },
    {
      "cell_type": "code",
      "source": [
        "# put the Cow counting function here\n",
        "def count_cows(first, second):\n",
        "  num_cows = 2\n",
        "  return num_cows\n",
        "\n",
        "first = [6, 2, 3, 4]\n",
        "second = [1, 2, 3, 4]\n",
        "print(count_cows(first, second))"
      ],
      "metadata": {
        "id": "QnxnaOPI3YZO",
        "colab": {
          "base_uri": "https://localhost:8080/"
        },
        "outputId": "7455b034-4509-4a06-8f28-5e4135d9d27a"
      },
      "execution_count": 22,
      "outputs": [
        {
          "output_type": "stream",
          "name": "stdout",
          "text": [
            "2\n"
          ]
        }
      ]
    },
    {
      "cell_type": "markdown",
      "metadata": {
        "id": "hWQhYDIVYjXr"
      },
      "source": [
        "4. **Create feedback string**  \n",
        "Write a `build_response_str` function that takes three numbers, say `b,c,l`, and outputs a string of total length `l` that consists of `b` B's, followed by `c` C's, and the rest X's (until the total length is `l`).\n",
        "\n",
        "> Sample run:\n",
        "```\n",
        "build_response_str(4,3,9)\n",
        "```\n",
        "```\n",
        "BBBBCCCXX\n",
        "```"
      ]
    },
    {
      "cell_type": "code",
      "source": [
        "# define your function here\n",
        "def build_response_str(b, c, l):\n",
        "  x_count = l - b - c\n",
        "\n",
        "  if x_count < 0:\n",
        "    return \"\"\n",
        "\n",
        "  response_str = 'B' * b + 'C' * c + 'X' * x_count\n",
        "\n",
        "  return response_str\n",
        "\n",
        "print(build_response_str(4, 3, 9))"
      ],
      "metadata": {
        "id": "GSimWqUsMaPE",
        "colab": {
          "base_uri": "https://localhost:8080/"
        },
        "outputId": "e9961172-da95-4e7c-ad06-ee771117fc9f"
      },
      "execution_count": 23,
      "outputs": [
        {
          "output_type": "stream",
          "name": "stdout",
          "text": [
            "BBBBCCCXX\n"
          ]
        }
      ]
    },
    {
      "cell_type": "markdown",
      "source": [
        "Test your code here."
      ],
      "metadata": {
        "id": "2D14kxTU7ApH"
      }
    },
    {
      "cell_type": "markdown",
      "metadata": {
        "id": "omzE6sLKwsMC"
      },
      "source": [
        "5.  **Generate feedback for guesses**  \n",
        "Write a function `response(first,second)` that takes two lists of the same length, and outputs a string consisting of some number of B's followed by some number of C's followed by some number of X's, where the numbers correspond to the things we counted above.  That is, if `first` were the secret code in the game and `second` were the user's guess, then we would print one B for each Bull, one C for each Cow, and one X for each Miss. The total output string should have the same length as the input strings.\n",
        "\n",
        "> Sample run:\n",
        "```\n",
        "first = [11, 3, 17, 5, 1]\n",
        "second = [20, 2, 17, 3, 1]\n",
        "response(first,second)\n",
        "```\n",
        "```\n",
        " BBCXX\n",
        "```\n",
        "\n",
        "With all the functions you've already put in place, this should be simple.  Test your code once it's written.\n"
      ]
    },
    {
      "cell_type": "code",
      "source": [
        "def response(secret_code, guess):\n",
        "  bulls = count_bulls(secret_code, guess)\n",
        "  total_length = len(secret_code)\n",
        "  cows = sum(min(secret_code.count(num), guess.count(num)) for num in set(secret_code)) - bulls\n",
        "  misses = total_length - bulls - cows\n",
        "  return build_response_str(bulls, cows, total_length)\n",
        "\n",
        "first = [6, 2, 3, 4]\n",
        "second = [1, 2, 5, 4]\n",
        "print(response(first, second))\n"
      ],
      "metadata": {
        "id": "RD1qq7l783y5",
        "colab": {
          "base_uri": "https://localhost:8080/"
        },
        "outputId": "6234b98b-2a2d-4897-c2b0-10f4d62a8d2e"
      },
      "execution_count": 24,
      "outputs": [
        {
          "output_type": "stream",
          "name": "stdout",
          "text": [
            "BBXX\n"
          ]
        }
      ]
    },
    {
      "cell_type": "markdown",
      "metadata": {
        "id": "LWshNPjPZJdQ"
      },
      "source": [
        "6.  **Choose the secret code**  \n",
        "The `random` package, and specifically the `sample` sub-package, is useful for generating random samples.  Try running the following lines of code several times.\n",
        "\n"
      ]
    },
    {
      "cell_type": "code",
      "source": [
        "from random import sample\n",
        "\n",
        "sample(range(1,7),4)  # the first argument is the population to be sampled, and the second is the number of samples\n",
        "                      # recall that `range(a,b)` includes `a` but stops at `b-1`"
      ],
      "metadata": {
        "id": "OzEZ5BQZ85jV",
        "colab": {
          "base_uri": "https://localhost:8080/"
        },
        "outputId": "1cff7e86-e724-435a-e738-f3c86fe504ab"
      },
      "execution_count": 25,
      "outputs": [
        {
          "output_type": "execute_result",
          "data": {
            "text/plain": [
              "[1, 4, 5, 2]"
            ]
          },
          "metadata": {},
          "execution_count": 25
        }
      ]
    },
    {
      "cell_type": "markdown",
      "source": [
        "What type of object is returned by the `sample` function?\n"
      ],
      "metadata": {
        "id": "N1BOe2Xd-kr4"
      }
    },
    {
      "cell_type": "markdown",
      "source": [
        "The sample function returns a list of 4 randomly selected numbers from 1 to 6 without replacement"
      ],
      "metadata": {
        "id": "Fn2YgVdLPEwc"
      }
    },
    {
      "cell_type": "markdown",
      "source": [],
      "metadata": {
        "id": "yGZw8xFZ-uN4"
      }
    },
    {
      "cell_type": "markdown",
      "source": [
        "7. **Verify the guess**  \n",
        "Finish writing a function called `get_guess` (started below) to prompt the user for a guess and then make sure the input is valid according to the rules of the game.\n",
        "The prompt is already given.  Note that the `list` command converts the input into a list of characters so that it can be passed to the other functions (which are expecting lists).   \n",
        ">**Alert:  you will likely have to think more about data types before this is all over.**"
      ],
      "metadata": {
        "id": "mbK84TdIAVsO"
      }
    },
    {
      "cell_type": "code",
      "source": [
        "def get_guess():\n",
        "# Add code as needed to verify that the guess is legitimate.\n",
        "# Respond to an illegitimate guess with a message telling the user what the rules are\n",
        "# and asking to try again.\n",
        "\n",
        "  guess = list(input(\"Enter your guess:\"))\n",
        "\n",
        "  return guess"
      ],
      "metadata": {
        "id": "13HGg6VvBXSH"
      },
      "execution_count": 26,
      "outputs": []
    },
    {
      "cell_type": "markdown",
      "source": [
        "As usual, test your code.  What type of objects are we dealing with here?"
      ],
      "metadata": {
        "id": "PSPYpeZYONf0"
      }
    },
    {
      "cell_type": "code",
      "source": [
        "def get_guess():\n",
        "    while True:\n",
        "        guess = input(\"Enter your guess (4 digits between 1 and 6 with no repeats): \")\n",
        "        if len(guess) != 4 or not guess.isdigit():\n",
        "            print(\"Invalid input! Please enter 4 digits.\")\n",
        "            continue\n",
        "\n",
        "        guess_list = [int(digit) for digit in guess]\n",
        "        if len(set(guess_list)) != 4 or not all(1 <= digit <= 6 for digit in guess_list):\n",
        "            print(\"Invalid input! Please ensure digits are between 1 and 6 with no repeats.\")\n",
        "            continue\n",
        "        return guess_list\n",
        "\n",
        "print(get_guess())"
      ],
      "metadata": {
        "id": "ytgf6BfiOPNh",
        "colab": {
          "base_uri": "https://localhost:8080/"
        },
        "outputId": "210f75aa-9a32-496f-918a-5a965cc0e7d5"
      },
      "execution_count": 30,
      "outputs": [
        {
          "output_type": "stream",
          "name": "stdout",
          "text": [
            "Enter your guess (4 digits between 1 and 6 with no repeats): 1111\n",
            "Invalid input! Please ensure digits are between 1 and 6 with no repeats.\n",
            "Enter your guess (4 digits between 1 and 6 with no repeats): 1325\n",
            "[1, 3, 2, 5]\n"
          ]
        }
      ]
    },
    {
      "cell_type": "markdown",
      "source": [
        "8. **Put it all together**  \n",
        "Finally, fill in the details of the function `bulls_cows` below so that it will play the game of Bulls and Cows when called.  Note that the function takes no arguments and returns nothing.\n"
      ],
      "metadata": {
        "id": "WdtvUrA4-uzn"
      }
    },
    {
      "cell_type": "code",
      "execution_count": 4,
      "metadata": {
        "id": "_u48oidGzRKX",
        "colab": {
          "base_uri": "https://localhost:8080/"
        },
        "outputId": "6a89738d-ffde-4dd1-fedc-e58221ea9de9"
      },
      "outputs": [
        {
          "output_type": "stream",
          "name": "stdout",
          "text": [
            "Enter your guess (4 digits between 1 and 6 with no repeats): 1234\n",
            "CCXX\n",
            "Enter your guess (4 digits between 1 and 6 with no repeats): 2345\n",
            "BCCX\n",
            "Enter your guess (4 digits between 1 and 6 with no repeats): 2435\n",
            "CCCX\n",
            "Enter your guess (4 digits between 1 and 6 with no repeats): 5132\n",
            "BBCX\n",
            "Enter your guess (4 digits between 1 and 6 with no repeats): 5123\n",
            "BCCX\n",
            "Enter your guess (4 digits between 1 and 6 with no repeats): 3125\n",
            "CCCX\n",
            "Sorry, you ran out of attempts. The secret code was: [5, 3, 6, 2]\n"
          ]
        }
      ],
      "source": [
        "from random import sample\n",
        "\n",
        "def count_bulls(secret_code, guess):\n",
        "    bulls = 0\n",
        "    for i in range(len(secret_code)):\n",
        "        if secret_code[i] == guess[i]:\n",
        "            bulls += 1\n",
        "    return bulls\n",
        "\n",
        "def build_response_str(b, c, l):\n",
        "    bulls = 'B' * b\n",
        "    cows = 'C' * c\n",
        "    misses = \"X\" * (l - b - c)\n",
        "    return bulls + cows + misses\n",
        "\n",
        "def response(secret_code, guess):\n",
        "    bulls = count_bulls(secret_code, guess)\n",
        "    total_length = len(secret_code)\n",
        "    cows = sum(min(secret_code.count(num), guess.count(num)) for num in set(secret_code)) - bulls\n",
        "    misses = total_length - bulls - cows\n",
        "    return build_response_str(bulls, cows, total_length)\n",
        "\n",
        "def get_guess():\n",
        "    while True:\n",
        "        guess = input(\"Enter your guess (4 digits between 1 and 6 with no repeats): \")\n",
        "        if len(guess) != 4 or not guess.isdigit():\n",
        "            print(\"Invalid input! Please enter 4 digits.\")\n",
        "            continue\n",
        "\n",
        "        guess_list = [int(digit) for digit in guess]\n",
        "        if len(set(guess_list)) != 4 or not all(1 <= digit <= 6 for digit in guess_list):\n",
        "            print(\"Invalid input! Please ensure digits are between 1 and 6 with no repeats.\")\n",
        "            continue\n",
        "        return guess_list\n",
        "\n",
        "def bulls_cows():\n",
        "    secret_code = sample(range(1, 7), 4)\n",
        "    max_attempts = 6\n",
        "    attempts = 0\n",
        "    while attempts < max_attempts:\n",
        "        guess = get_guess()\n",
        "        feedback = response(secret_code, guess)\n",
        "        print(feedback)\n",
        "        attempts += 1\n",
        "        if feedback == \"BBBB\":\n",
        "            print(\"Yay! You got the secret code:\", secret_code)\n",
        "            return\n",
        "    print(\"Sorry, you ran out of attempts. The secret code was:\", secret_code)\n",
        "\n",
        "bulls_cows()"
      ]
    },
    {
      "cell_type": "markdown",
      "metadata": {
        "id": "NzjqX_9K3OuV"
      },
      "source": [
        "Play the game a few times below.  Make sure it behaves as you think it should!"
      ]
    },
    {
      "cell_type": "code",
      "execution_count": null,
      "metadata": {
        "id": "b-HELV-z3OuW",
        "colab": {
          "base_uri": "https://localhost:8080/"
        },
        "outputId": "254a3965-8560-4ce7-f4a1-e87146b9f58e"
      },
      "outputs": [
        {
          "output_type": "stream",
          "name": "stdout",
          "text": [
            "Enter your guess (4 digits between 1 and 6 with no repeats): 2543\n",
            "CCXX\n",
            "Enter your guess (4 digits between 1 and 6 with no repeats): 6152\n",
            "BCCX\n",
            "Enter your guess (4 digits between 1 and 6 with no repeats): 6215\n",
            "CCCX\n",
            "Enter your guess (4 digits between 1 and 6 with no repeats): 6125\n",
            "BCCX\n"
          ]
        }
      ],
      "source": [
        "bulls_cows()"
      ]
    },
    {
      "cell_type": "code",
      "source": [
        "bulls_cows()"
      ],
      "metadata": {
        "id": "inzOdtimDfGU"
      },
      "execution_count": null,
      "outputs": []
    },
    {
      "cell_type": "code",
      "source": [
        "bulls_cows()"
      ],
      "metadata": {
        "id": "Eqw-5laFDfkG"
      },
      "execution_count": null,
      "outputs": []
    },
    {
      "cell_type": "markdown",
      "source": [
        "9. **Reflect**  \n",
        "Think of at least three ways you could change the rules or setup of the game, and in each case describe (in one sentence, you don't need to write code) what you would have to do to modify your code to play the new version of the game.  Use a text box below for each of your ideas."
      ],
      "metadata": {
        "id": "a58-KCX4ELRO"
      }
    },
    {
      "cell_type": "markdown",
      "source": [
        "(1) In Wordle, repeated letters are usually an option an often make the game a little more complicated. In this case, repeated numbers but still within 1 to 6 would make the game more fun as well. But variations with numbers tend to me more confusing than, for example, a word with two Es."
      ],
      "metadata": {
        "id": "Jof2vIZSEfwo"
      }
    },
    {
      "cell_type": "markdown",
      "source": [
        "(2)Like in Wordle, the hard mode makes you use the letter in the next word if you got it correct in the word before. This would make the game more interesting as well because it would force the player to make sure that the rest of the sequence is different but to keep one of the numbers anyway."
      ],
      "metadata": {
        "id": "f2_QlBavEiqW"
      }
    },
    {
      "cell_type": "markdown",
      "source": [
        "(3) Different code lengths could also be a way to increase difficulty. There are only so many words but variations in numbers can multiply in millions of different ways in regards to how many possibilities there are. Maybe players would find more fun in the challenge of this aside from only 4 words."
      ],
      "metadata": {
        "id": "sqfq2EFpEjZt"
      }
    }
  ],
  "metadata": {
    "colab": {
      "provenance": []
    },
    "kernelspec": {
      "display_name": "Python 3",
      "name": "python3"
    },
    "language_info": {
      "name": "python"
    }
  },
  "nbformat": 4,
  "nbformat_minor": 0
}